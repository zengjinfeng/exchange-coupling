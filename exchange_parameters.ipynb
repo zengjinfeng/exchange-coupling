{
 "cells": [
  {
   "cell_type": "code",
   "execution_count": 2,
   "metadata": {
    "collapsed": true
   },
   "outputs": [],
   "source": [
    "%matplotlib inline"
   ]
  },
  {
   "cell_type": "code",
   "execution_count": 3,
   "metadata": {
    "collapsed": true
   },
   "outputs": [],
   "source": [
    "import pandas as pd\n",
    "import numpy as np\n",
    "import pylab as plt"
   ]
  },
  {
   "cell_type": "markdown",
   "metadata": {},
   "source": [
    "## Cr"
   ]
  },
  {
   "cell_type": "code",
   "execution_count": 3,
   "metadata": {
    "collapsed": false
   },
   "outputs": [
    {
     "data": {
      "text/html": [
       "<div>\n",
       "<table border=\"1\" class=\"dataframe\">\n",
       "  <thead>\n",
       "    <tr style=\"text-align: right;\">\n",
       "      <th></th>\n",
       "      <th>J1</th>\n",
       "      <th>J2</th>\n",
       "      <th>J3</th>\n",
       "      <th>x</th>\n",
       "      <th>y</th>\n",
       "    </tr>\n",
       "  </thead>\n",
       "  <tbody>\n",
       "    <tr>\n",
       "      <th>0</th>\n",
       "      <td>68.78</td>\n",
       "      <td>-17.56</td>\n",
       "      <td>-9.19</td>\n",
       "      <td>-0.255307</td>\n",
       "      <td>-0.133614</td>\n",
       "    </tr>\n",
       "    <tr>\n",
       "      <th>1</th>\n",
       "      <td>51.87</td>\n",
       "      <td>-22.98</td>\n",
       "      <td>-9.02</td>\n",
       "      <td>-0.443031</td>\n",
       "      <td>-0.173896</td>\n",
       "    </tr>\n",
       "    <tr>\n",
       "      <th>2</th>\n",
       "      <td>36.18</td>\n",
       "      <td>-27.96</td>\n",
       "      <td>-9.68</td>\n",
       "      <td>-0.772803</td>\n",
       "      <td>-0.267551</td>\n",
       "    </tr>\n",
       "    <tr>\n",
       "      <th>3</th>\n",
       "      <td>23.35</td>\n",
       "      <td>-31.80</td>\n",
       "      <td>-10.46</td>\n",
       "      <td>-1.361884</td>\n",
       "      <td>-0.447966</td>\n",
       "    </tr>\n",
       "    <tr>\n",
       "      <th>4</th>\n",
       "      <td>12.98</td>\n",
       "      <td>-34.70</td>\n",
       "      <td>-11.16</td>\n",
       "      <td>-2.673344</td>\n",
       "      <td>-0.859784</td>\n",
       "    </tr>\n",
       "    <tr>\n",
       "      <th>5</th>\n",
       "      <td>4.59</td>\n",
       "      <td>-36.88</td>\n",
       "      <td>-11.76</td>\n",
       "      <td>-8.034858</td>\n",
       "      <td>-2.562092</td>\n",
       "    </tr>\n",
       "    <tr>\n",
       "      <th>6</th>\n",
       "      <td>-2.20</td>\n",
       "      <td>-38.51</td>\n",
       "      <td>-12.26</td>\n",
       "      <td>17.504545</td>\n",
       "      <td>5.572727</td>\n",
       "    </tr>\n",
       "    <tr>\n",
       "      <th>7</th>\n",
       "      <td>-7.69</td>\n",
       "      <td>-39.71</td>\n",
       "      <td>-12.65</td>\n",
       "      <td>5.163849</td>\n",
       "      <td>1.644993</td>\n",
       "    </tr>\n",
       "  </tbody>\n",
       "</table>\n",
       "</div>"
      ],
      "text/plain": [
       "      J1     J2     J3          x         y\n",
       "0  68.78 -17.56  -9.19  -0.255307 -0.133614\n",
       "1  51.87 -22.98  -9.02  -0.443031 -0.173896\n",
       "2  36.18 -27.96  -9.68  -0.772803 -0.267551\n",
       "3  23.35 -31.80 -10.46  -1.361884 -0.447966\n",
       "4  12.98 -34.70 -11.16  -2.673344 -0.859784\n",
       "5   4.59 -36.88 -11.76  -8.034858 -2.562092\n",
       "6  -2.20 -38.51 -12.26  17.504545  5.572727\n",
       "7  -7.69 -39.71 -12.65   5.163849  1.644993"
      ]
     },
     "execution_count": 3,
     "metadata": {},
     "output_type": "execute_result"
    }
   ],
   "source": [
    "CaCr2As2_J_constant = pd.read_csv('./CaCr2As2/CaCr2As2_J_constant.txt', sep=' ', names=['J1', 'J2', 'J3'])\n",
    "CaCr2As2_J_constant['x']=CaCr2As2_J_constant['J2']/CaCr2As2_J_constant['J1']\n",
    "CaCr2As2_J_constant['y']=CaCr2As2_J_constant['J3']/CaCr2As2_J_constant['J1']\n",
    "CaCr2As2_J_constant"
   ]
  },
  {
   "cell_type": "code",
   "execution_count": 4,
   "metadata": {
    "collapsed": false
   },
   "outputs": [
    {
     "data": {
      "text/html": [
       "<div>\n",
       "<table border=\"1\" class=\"dataframe\">\n",
       "  <thead>\n",
       "    <tr style=\"text-align: right;\">\n",
       "      <th></th>\n",
       "      <th>J1</th>\n",
       "      <th>J2</th>\n",
       "      <th>J3</th>\n",
       "      <th>x</th>\n",
       "      <th>y</th>\n",
       "    </tr>\n",
       "  </thead>\n",
       "  <tbody>\n",
       "    <tr>\n",
       "      <th>0</th>\n",
       "      <td>97.84</td>\n",
       "      <td>-3.76</td>\n",
       "      <td>-15.70</td>\n",
       "      <td>-0.038430</td>\n",
       "      <td>-0.160466</td>\n",
       "    </tr>\n",
       "    <tr>\n",
       "      <th>1</th>\n",
       "      <td>77.90</td>\n",
       "      <td>-12.68</td>\n",
       "      <td>-15.37</td>\n",
       "      <td>-0.162773</td>\n",
       "      <td>-0.197304</td>\n",
       "    </tr>\n",
       "    <tr>\n",
       "      <th>2</th>\n",
       "      <td>65.10</td>\n",
       "      <td>-16.43</td>\n",
       "      <td>-12.45</td>\n",
       "      <td>-0.252381</td>\n",
       "      <td>-0.191244</td>\n",
       "    </tr>\n",
       "    <tr>\n",
       "      <th>3</th>\n",
       "      <td>49.81</td>\n",
       "      <td>-21.30</td>\n",
       "      <td>-11.42</td>\n",
       "      <td>-0.427625</td>\n",
       "      <td>-0.229271</td>\n",
       "    </tr>\n",
       "    <tr>\n",
       "      <th>4</th>\n",
       "      <td>34.79</td>\n",
       "      <td>-26.16</td>\n",
       "      <td>-11.31</td>\n",
       "      <td>-0.751940</td>\n",
       "      <td>-0.325093</td>\n",
       "    </tr>\n",
       "    <tr>\n",
       "      <th>5</th>\n",
       "      <td>21.90</td>\n",
       "      <td>-30.20</td>\n",
       "      <td>-11.61</td>\n",
       "      <td>-1.378995</td>\n",
       "      <td>-0.530137</td>\n",
       "    </tr>\n",
       "    <tr>\n",
       "      <th>6</th>\n",
       "      <td>11.02</td>\n",
       "      <td>-33.51</td>\n",
       "      <td>-12.01</td>\n",
       "      <td>-3.040835</td>\n",
       "      <td>-1.089837</td>\n",
       "    </tr>\n",
       "    <tr>\n",
       "      <th>7</th>\n",
       "      <td>1.92</td>\n",
       "      <td>-36.17</td>\n",
       "      <td>-12.33</td>\n",
       "      <td>-18.838542</td>\n",
       "      <td>-6.421875</td>\n",
       "    </tr>\n",
       "  </tbody>\n",
       "</table>\n",
       "</div>"
      ],
      "text/plain": [
       "      J1     J2     J3          x         y\n",
       "0  97.84  -3.76 -15.70  -0.038430 -0.160466\n",
       "1  77.90 -12.68 -15.37  -0.162773 -0.197304\n",
       "2  65.10 -16.43 -12.45  -0.252381 -0.191244\n",
       "3  49.81 -21.30 -11.42  -0.427625 -0.229271\n",
       "4  34.79 -26.16 -11.31  -0.751940 -0.325093\n",
       "5  21.90 -30.20 -11.61  -1.378995 -0.530137\n",
       "6  11.02 -33.51 -12.01  -3.040835 -1.089837\n",
       "7   1.92 -36.17 -12.33 -18.838542 -6.421875"
      ]
     },
     "execution_count": 4,
     "metadata": {},
     "output_type": "execute_result"
    }
   ],
   "source": [
    "CaCr2P2_J_constant = pd.read_csv('./CaCr2P2/CaCr2P2_J_constant.txt', sep=' ', names=['J1', 'J2', 'J3'])\n",
    "CaCr2P2_J_constant['x']=CaCr2P2_J_constant['J2']/CaCr2P2_J_constant['J1']\n",
    "CaCr2P2_J_constant['y']=CaCr2P2_J_constant['J3']/CaCr2P2_J_constant['J1']\n",
    "CaCr2P2_J_constant"
   ]
  },
  {
   "cell_type": "code",
   "execution_count": 53,
   "metadata": {
    "collapsed": false
   },
   "outputs": [
    {
     "data": {
      "text/plain": [
       "<matplotlib.text.Text at 0x11ca50f90>"
      ]
     },
     "execution_count": 53,
     "metadata": {},
     "output_type": "execute_result"
    },
    {
     "data": {
      "image/png": "[encoded data removed]",
      "text/plain": [
       "<matplotlib.figure.Figure at 0x11c6a2610>"
      ]
     },
     "metadata": {},
     "output_type": "display_data"
    }
   ],
   "source": [
    "rate_CaCr2As2_df= CaCr2As2_J_constant.drop(['J1','J2','J3'],axis=1)\n",
    "rate_CaCr2As2 = rate_CaCr2As2_df.values\n",
    "rate_CaCr2P2_df= CaCr2P2_J_constant.drop(['J1','J2','J3'],axis=1)\n",
    "rate_CaCr2P2 = rate_CaCr2P2_df.values\n",
    "\n",
    "x1 = np.linspace(0.5,1,50)\n",
    "y1 = (x1-np.sqrt(x1**2 + 2*((x1-0.5)**2)))/2\n",
    "\n",
    "x2 = np.linspace(-0.5, 0.5,50)\n",
    "y2 = (0.5 + 3*x2 - np.sqrt(51/12 - 5*x2 + 9*(x2**2)))/4\n",
    "\n",
    "x3 = np.linspace(-0.5, 0.5,50)\n",
    "y3 = (6*x3-1)/4\n",
    "\n",
    "x4 = np.linspace(0.5, 1, 50)\n",
    "y4 = (6*x4-1)/4\n",
    "\n",
    "x5=np.linspace(1.0/6, 0.5, 50)\n",
    "y5=0*x5\n",
    "\n",
    "x6=0.5*np.ones(50)\n",
    "y6=np.linspace(0.5,2,50)\n",
    "\n",
    "x7=np.linspace(-3, -0.5, 50)\n",
    "y7=(-1)*np.ones(50)\n",
    "\n",
    "x8=(-0.5)*np.ones(50)\n",
    "y8=np.linspace(-1, -2, 50)\n",
    "\n",
    "fig, ax = plt.subplots()\n",
    "ax.plot(x1, y1, color = 'blue')\n",
    "ax.plot(x2, y2, color = 'blue')\n",
    "ax.plot(x3, y3, color = 'blue')\n",
    "ax.plot(x4, y4, color = 'blue')\n",
    "ax.plot(x5, y5, color = 'blue')\n",
    "ax.plot(x6, y6, color = 'blue')\n",
    "ax.plot(x7, y7, color = 'blue')\n",
    "ax.plot(x8, y8, color = 'blue')\n",
    "ax.scatter(rate_CaCr2As2[0:5,0], rate_CaCr2As2[0:5,1],marker='^',label='CaCr2As2')\n",
    "ax.scatter(rate_CaCr2P2[0:7,0], rate_CaCr2P2[0:7,1],marker='o',label='CaCr2P2')\n",
    "ax.legend(loc='upper right')\n",
    "plt.xlabel('J2/J1')\n",
    "plt.ylabel('J3/J1')"
   ]
  },
  {
   "cell_type": "code",
   "execution_count": 6,
   "metadata": {
    "collapsed": false
   },
   "outputs": [
    {
     "data": {
      "text/html": [
       "<div>\n",
       "<table border=\"1\" class=\"dataframe\">\n",
       "  <thead>\n",
       "    <tr style=\"text-align: right;\">\n",
       "      <th></th>\n",
       "      <th>CaCr2P2_J2</th>\n",
       "      <th>CaCr2As2_J2</th>\n",
       "    </tr>\n",
       "  </thead>\n",
       "  <tbody>\n",
       "    <tr>\n",
       "      <th>0</th>\n",
       "      <td>-3.76</td>\n",
       "      <td>-17.56</td>\n",
       "    </tr>\n",
       "    <tr>\n",
       "      <th>1</th>\n",
       "      <td>-12.68</td>\n",
       "      <td>-22.98</td>\n",
       "    </tr>\n",
       "    <tr>\n",
       "      <th>2</th>\n",
       "      <td>-16.43</td>\n",
       "      <td>-27.96</td>\n",
       "    </tr>\n",
       "    <tr>\n",
       "      <th>3</th>\n",
       "      <td>-21.30</td>\n",
       "      <td>-31.80</td>\n",
       "    </tr>\n",
       "    <tr>\n",
       "      <th>4</th>\n",
       "      <td>-26.16</td>\n",
       "      <td>-34.70</td>\n",
       "    </tr>\n",
       "    <tr>\n",
       "      <th>5</th>\n",
       "      <td>-30.20</td>\n",
       "      <td>-36.88</td>\n",
       "    </tr>\n",
       "    <tr>\n",
       "      <th>6</th>\n",
       "      <td>-33.51</td>\n",
       "      <td>-38.51</td>\n",
       "    </tr>\n",
       "    <tr>\n",
       "      <th>7</th>\n",
       "      <td>-36.17</td>\n",
       "      <td>-39.71</td>\n",
       "    </tr>\n",
       "  </tbody>\n",
       "</table>\n",
       "</div>"
      ],
      "text/plain": [
       "   CaCr2P2_J2  CaCr2As2_J2\n",
       "0       -3.76       -17.56\n",
       "1      -12.68       -22.98\n",
       "2      -16.43       -27.96\n",
       "3      -21.30       -31.80\n",
       "4      -26.16       -34.70\n",
       "5      -30.20       -36.88\n",
       "6      -33.51       -38.51\n",
       "7      -36.17       -39.71"
      ]
     },
     "execution_count": 6,
     "metadata": {},
     "output_type": "execute_result"
    }
   ],
   "source": [
    "Cr_J2_constant = CaCr2As2_J_constant.drop(['J1','J2','J3','x','y'], axis=1)\n",
    "Cr_J2_constant['CaCr2P2_J2'] = CaCr2P2_J_constant['J2']\n",
    "Cr_J2_constant['CaCr2As2_J2'] = CaCr2As2_J_constant['J2']\n",
    "Cr_J2_constant"
   ]
  },
  {
   "cell_type": "code",
   "execution_count": 7,
   "metadata": {
    "collapsed": false
   },
   "outputs": [
    {
     "data": {
      "text/plain": [
       "<matplotlib.legend.Legend at 0x116a467d0>"
      ]
     },
     "execution_count": 7,
     "metadata": {},
     "output_type": "execute_result"
    },
    {
     "data": {
      "image/png": "[encoded data removed]",
      "text/plain": [
       "<matplotlib.figure.Figure at 0x116a46a90>"
      ]
     },
     "metadata": {},
     "output_type": "display_data"
    }
   ],
   "source": [
    "Cr_J2_constant_T = Cr_J2_constant.T\n",
    "Cr_J2_constant_T.plot( y=[0,1,2,3,4,5,6,7],kind='line')\n",
    "plt.legend(('u=0', 'u=0.5', 'u=1','u=1.5','u=2','u=2.5','u=3','u=3.5'),loc=4)"
   ]
  },
  {
   "cell_type": "code",
   "execution_count": 8,
   "metadata": {
    "collapsed": false
   },
   "outputs": [
    {
     "data": {
      "text/html": [
       "<div>\n",
       "<table border=\"1\" class=\"dataframe\">\n",
       "  <thead>\n",
       "    <tr style=\"text-align: right;\">\n",
       "      <th></th>\n",
       "      <th>J1</th>\n",
       "      <th>J2</th>\n",
       "      <th>J3</th>\n",
       "      <th>x</th>\n",
       "      <th>y</th>\n",
       "    </tr>\n",
       "  </thead>\n",
       "  <tbody>\n",
       "    <tr>\n",
       "      <th>0</th>\n",
       "      <td>17.1950</td>\n",
       "      <td>-4.3900</td>\n",
       "      <td>-2.2975</td>\n",
       "      <td>-0.063827</td>\n",
       "      <td>-0.033404</td>\n",
       "    </tr>\n",
       "    <tr>\n",
       "      <th>1</th>\n",
       "      <td>12.9675</td>\n",
       "      <td>-5.7450</td>\n",
       "      <td>-2.2550</td>\n",
       "      <td>-0.110758</td>\n",
       "      <td>-0.043474</td>\n",
       "    </tr>\n",
       "    <tr>\n",
       "      <th>2</th>\n",
       "      <td>9.0450</td>\n",
       "      <td>-6.9900</td>\n",
       "      <td>-2.4200</td>\n",
       "      <td>-0.193201</td>\n",
       "      <td>-0.066888</td>\n",
       "    </tr>\n",
       "    <tr>\n",
       "      <th>3</th>\n",
       "      <td>5.8375</td>\n",
       "      <td>-7.9500</td>\n",
       "      <td>-2.6150</td>\n",
       "      <td>-0.340471</td>\n",
       "      <td>-0.111991</td>\n",
       "    </tr>\n",
       "    <tr>\n",
       "      <th>4</th>\n",
       "      <td>3.2450</td>\n",
       "      <td>-8.6750</td>\n",
       "      <td>-2.7900</td>\n",
       "      <td>-0.668336</td>\n",
       "      <td>-0.214946</td>\n",
       "    </tr>\n",
       "    <tr>\n",
       "      <th>5</th>\n",
       "      <td>1.1475</td>\n",
       "      <td>-9.2200</td>\n",
       "      <td>-2.9400</td>\n",
       "      <td>-2.008715</td>\n",
       "      <td>-0.640523</td>\n",
       "    </tr>\n",
       "    <tr>\n",
       "      <th>6</th>\n",
       "      <td>-0.5500</td>\n",
       "      <td>-9.6275</td>\n",
       "      <td>-3.0650</td>\n",
       "      <td>4.376136</td>\n",
       "      <td>1.393182</td>\n",
       "    </tr>\n",
       "    <tr>\n",
       "      <th>7</th>\n",
       "      <td>-1.9225</td>\n",
       "      <td>-9.9275</td>\n",
       "      <td>-3.1625</td>\n",
       "      <td>1.290962</td>\n",
       "      <td>0.411248</td>\n",
       "    </tr>\n",
       "  </tbody>\n",
       "</table>\n",
       "</div>"
      ],
      "text/plain": [
       "        J1      J2      J3         x         y\n",
       "0  17.1950 -4.3900 -2.2975 -0.063827 -0.033404\n",
       "1  12.9675 -5.7450 -2.2550 -0.110758 -0.043474\n",
       "2   9.0450 -6.9900 -2.4200 -0.193201 -0.066888\n",
       "3   5.8375 -7.9500 -2.6150 -0.340471 -0.111991\n",
       "4   3.2450 -8.6750 -2.7900 -0.668336 -0.214946\n",
       "5   1.1475 -9.2200 -2.9400 -2.008715 -0.640523\n",
       "6  -0.5500 -9.6275 -3.0650  4.376136  1.393182\n",
       "7  -1.9225 -9.9275 -3.1625  1.290962  0.411248"
      ]
     },
     "execution_count": 8,
     "metadata": {},
     "output_type": "execute_result"
    }
   ],
   "source": [
    "CaCr2As2_J_constant_gate = CaCr2As2_J_constant/4\n",
    "CaCr2As2_J_constant_gate"
   ]
  },
  {
   "cell_type": "code",
   "execution_count": 9,
   "metadata": {
    "collapsed": false
   },
   "outputs": [
    {
     "data": {
      "text/html": [
       "<div>\n",
       "<table border=\"1\" class=\"dataframe\">\n",
       "  <thead>\n",
       "    <tr style=\"text-align: right;\">\n",
       "      <th></th>\n",
       "      <th>J1</th>\n",
       "      <th>J2</th>\n",
       "      <th>J3</th>\n",
       "      <th>x</th>\n",
       "      <th>y</th>\n",
       "    </tr>\n",
       "  </thead>\n",
       "  <tbody>\n",
       "    <tr>\n",
       "      <th>0</th>\n",
       "      <td>17.1950</td>\n",
       "      <td>-4.3900</td>\n",
       "      <td>-2.2975</td>\n",
       "      <td>-0.063827</td>\n",
       "      <td>-0.033404</td>\n",
       "    </tr>\n",
       "    <tr>\n",
       "      <th>1</th>\n",
       "      <td>12.9675</td>\n",
       "      <td>-5.7450</td>\n",
       "      <td>-2.2550</td>\n",
       "      <td>-0.110758</td>\n",
       "      <td>-0.043474</td>\n",
       "    </tr>\n",
       "    <tr>\n",
       "      <th>2</th>\n",
       "      <td>9.0450</td>\n",
       "      <td>-6.9900</td>\n",
       "      <td>-2.4200</td>\n",
       "      <td>-0.193201</td>\n",
       "      <td>-0.066888</td>\n",
       "    </tr>\n",
       "    <tr>\n",
       "      <th>3</th>\n",
       "      <td>5.8375</td>\n",
       "      <td>-7.9500</td>\n",
       "      <td>-2.6150</td>\n",
       "      <td>-0.340471</td>\n",
       "      <td>-0.111991</td>\n",
       "    </tr>\n",
       "    <tr>\n",
       "      <th>4</th>\n",
       "      <td>3.2450</td>\n",
       "      <td>-8.6750</td>\n",
       "      <td>-2.7900</td>\n",
       "      <td>-0.668336</td>\n",
       "      <td>-0.214946</td>\n",
       "    </tr>\n",
       "    <tr>\n",
       "      <th>5</th>\n",
       "      <td>1.1475</td>\n",
       "      <td>-9.2200</td>\n",
       "      <td>-2.9400</td>\n",
       "      <td>-2.008715</td>\n",
       "      <td>-0.640523</td>\n",
       "    </tr>\n",
       "    <tr>\n",
       "      <th>6</th>\n",
       "      <td>-0.5500</td>\n",
       "      <td>-9.6275</td>\n",
       "      <td>-3.0650</td>\n",
       "      <td>4.376136</td>\n",
       "      <td>1.393182</td>\n",
       "    </tr>\n",
       "    <tr>\n",
       "      <th>7</th>\n",
       "      <td>-1.9225</td>\n",
       "      <td>-9.9275</td>\n",
       "      <td>-3.1625</td>\n",
       "      <td>1.290962</td>\n",
       "      <td>0.411248</td>\n",
       "    </tr>\n",
       "  </tbody>\n",
       "</table>\n",
       "</div>"
      ],
      "text/plain": [
       "        J1      J2      J3         x         y\n",
       "0  17.1950 -4.3900 -2.2975 -0.063827 -0.033404\n",
       "1  12.9675 -5.7450 -2.2550 -0.110758 -0.043474\n",
       "2   9.0450 -6.9900 -2.4200 -0.193201 -0.066888\n",
       "3   5.8375 -7.9500 -2.6150 -0.340471 -0.111991\n",
       "4   3.2450 -8.6750 -2.7900 -0.668336 -0.214946\n",
       "5   1.1475 -9.2200 -2.9400 -2.008715 -0.640523\n",
       "6  -0.5500 -9.6275 -3.0650  4.376136  1.393182\n",
       "7  -1.9225 -9.9275 -3.1625  1.290962  0.411248"
      ]
     },
     "execution_count": 9,
     "metadata": {},
     "output_type": "execute_result"
    }
   ],
   "source": [
    "CaCr2P2_J_constant_gate = CaCr2As2_J_constant/4\n",
    "CaCr2P2_J_constant_gate"
   ]
  },
  {
   "cell_type": "markdown",
   "metadata": {},
   "source": [
    "## Mn\n"
   ]
  },
  {
   "cell_type": "code",
   "execution_count": 10,
   "metadata": {
    "collapsed": false
   },
   "outputs": [
    {
     "data": {
      "text/html": [
       "<div>\n",
       "<table border=\"1\" class=\"dataframe\">\n",
       "  <thead>\n",
       "    <tr style=\"text-align: right;\">\n",
       "      <th></th>\n",
       "      <th>J1</th>\n",
       "      <th>J2</th>\n",
       "      <th>J3</th>\n",
       "      <th>x</th>\n",
       "      <th>y</th>\n",
       "    </tr>\n",
       "  </thead>\n",
       "  <tbody>\n",
       "    <tr>\n",
       "      <th>0</th>\n",
       "      <td>134.53</td>\n",
       "      <td>26.10</td>\n",
       "      <td>5.20</td>\n",
       "      <td>0.194009</td>\n",
       "      <td>0.038653</td>\n",
       "    </tr>\n",
       "    <tr>\n",
       "      <th>1</th>\n",
       "      <td>128.97</td>\n",
       "      <td>25.97</td>\n",
       "      <td>5.50</td>\n",
       "      <td>0.201365</td>\n",
       "      <td>0.042646</td>\n",
       "    </tr>\n",
       "    <tr>\n",
       "      <th>2</th>\n",
       "      <td>121.32</td>\n",
       "      <td>24.96</td>\n",
       "      <td>5.76</td>\n",
       "      <td>0.205737</td>\n",
       "      <td>0.047478</td>\n",
       "    </tr>\n",
       "    <tr>\n",
       "      <th>3</th>\n",
       "      <td>112.83</td>\n",
       "      <td>23.39</td>\n",
       "      <td>5.82</td>\n",
       "      <td>0.207303</td>\n",
       "      <td>0.051582</td>\n",
       "    </tr>\n",
       "    <tr>\n",
       "      <th>4</th>\n",
       "      <td>104.00</td>\n",
       "      <td>21.41</td>\n",
       "      <td>5.63</td>\n",
       "      <td>0.205865</td>\n",
       "      <td>0.054135</td>\n",
       "    </tr>\n",
       "    <tr>\n",
       "      <th>5</th>\n",
       "      <td>95.41</td>\n",
       "      <td>19.31</td>\n",
       "      <td>5.31</td>\n",
       "      <td>0.202390</td>\n",
       "      <td>0.055655</td>\n",
       "    </tr>\n",
       "    <tr>\n",
       "      <th>6</th>\n",
       "      <td>87.31</td>\n",
       "      <td>17.23</td>\n",
       "      <td>4.93</td>\n",
       "      <td>0.197343</td>\n",
       "      <td>0.056465</td>\n",
       "    </tr>\n",
       "    <tr>\n",
       "      <th>7</th>\n",
       "      <td>79.92</td>\n",
       "      <td>15.29</td>\n",
       "      <td>4.55</td>\n",
       "      <td>0.191316</td>\n",
       "      <td>0.056932</td>\n",
       "    </tr>\n",
       "  </tbody>\n",
       "</table>\n",
       "</div>"
      ],
      "text/plain": [
       "       J1     J2    J3         x         y\n",
       "0  134.53  26.10  5.20  0.194009  0.038653\n",
       "1  128.97  25.97  5.50  0.201365  0.042646\n",
       "2  121.32  24.96  5.76  0.205737  0.047478\n",
       "3  112.83  23.39  5.82  0.207303  0.051582\n",
       "4  104.00  21.41  5.63  0.205865  0.054135\n",
       "5   95.41  19.31  5.31  0.202390  0.055655\n",
       "6   87.31  17.23  4.93  0.197343  0.056465\n",
       "7   79.92  15.29  4.55  0.191316  0.056932"
      ]
     },
     "execution_count": 10,
     "metadata": {},
     "output_type": "execute_result"
    }
   ],
   "source": [
    "CaMn2As2_J_constant = pd.read_csv('./CaMn2As2/CaMn2As2_J_constant.txt', sep=' ', names=['J1', 'J2', 'J3'])\n",
    "CaMn2As2_J_constant['x']=CaMn2As2_J_constant['J2']/CaMn2As2_J_constant['J1']\n",
    "CaMn2As2_J_constant['y']=CaMn2As2_J_constant['J3']/CaMn2As2_J_constant['J1']\n",
    "CaMn2As2_J_constant"
   ]
  },
  {
   "cell_type": "code",
   "execution_count": 11,
   "metadata": {
    "collapsed": false
   },
   "outputs": [
    {
     "data": {
      "text/html": [
       "<div>\n",
       "<table border=\"1\" class=\"dataframe\">\n",
       "  <thead>\n",
       "    <tr style=\"text-align: right;\">\n",
       "      <th></th>\n",
       "      <th>J1</th>\n",
       "      <th>J2</th>\n",
       "      <th>J3</th>\n",
       "      <th>x</th>\n",
       "      <th>y</th>\n",
       "    </tr>\n",
       "  </thead>\n",
       "  <tbody>\n",
       "    <tr>\n",
       "      <th>0</th>\n",
       "      <td>120.05</td>\n",
       "      <td>14.73</td>\n",
       "      <td>-3.50</td>\n",
       "      <td>0.122699</td>\n",
       "      <td>-0.029155</td>\n",
       "    </tr>\n",
       "    <tr>\n",
       "      <th>1</th>\n",
       "      <td>142.61</td>\n",
       "      <td>26.90</td>\n",
       "      <td>2.60</td>\n",
       "      <td>0.188626</td>\n",
       "      <td>0.018232</td>\n",
       "    </tr>\n",
       "    <tr>\n",
       "      <th>2</th>\n",
       "      <td>145.89</td>\n",
       "      <td>31.12</td>\n",
       "      <td>5.48</td>\n",
       "      <td>0.213311</td>\n",
       "      <td>0.037563</td>\n",
       "    </tr>\n",
       "    <tr>\n",
       "      <th>3</th>\n",
       "      <td>138.40</td>\n",
       "      <td>30.30</td>\n",
       "      <td>5.85</td>\n",
       "      <td>0.218931</td>\n",
       "      <td>0.042269</td>\n",
       "    </tr>\n",
       "    <tr>\n",
       "      <th>4</th>\n",
       "      <td>129.82</td>\n",
       "      <td>28.85</td>\n",
       "      <td>6.07</td>\n",
       "      <td>0.222231</td>\n",
       "      <td>0.046757</td>\n",
       "    </tr>\n",
       "    <tr>\n",
       "      <th>5</th>\n",
       "      <td>120.57</td>\n",
       "      <td>26.86</td>\n",
       "      <td>6.01</td>\n",
       "      <td>0.222775</td>\n",
       "      <td>0.049847</td>\n",
       "    </tr>\n",
       "    <tr>\n",
       "      <th>6</th>\n",
       "      <td>111.19</td>\n",
       "      <td>24.57</td>\n",
       "      <td>5.73</td>\n",
       "      <td>0.220973</td>\n",
       "      <td>0.051533</td>\n",
       "    </tr>\n",
       "    <tr>\n",
       "      <th>7</th>\n",
       "      <td>102.20</td>\n",
       "      <td>22.24</td>\n",
       "      <td>5.36</td>\n",
       "      <td>0.217613</td>\n",
       "      <td>0.052446</td>\n",
       "    </tr>\n",
       "  </tbody>\n",
       "</table>\n",
       "</div>"
      ],
      "text/plain": [
       "       J1     J2    J3         x         y\n",
       "0  120.05  14.73 -3.50  0.122699 -0.029155\n",
       "1  142.61  26.90  2.60  0.188626  0.018232\n",
       "2  145.89  31.12  5.48  0.213311  0.037563\n",
       "3  138.40  30.30  5.85  0.218931  0.042269\n",
       "4  129.82  28.85  6.07  0.222231  0.046757\n",
       "5  120.57  26.86  6.01  0.222775  0.049847\n",
       "6  111.19  24.57  5.73  0.220973  0.051533\n",
       "7  102.20  22.24  5.36  0.217613  0.052446"
      ]
     },
     "execution_count": 11,
     "metadata": {},
     "output_type": "execute_result"
    }
   ],
   "source": [
    "CaMn2P2_J_constant = pd.read_csv('./CaMn2P2/CaMn2P2_J_constant.txt', sep=' ', names=['J1', 'J2', 'J3'])\n",
    "CaMn2P2_J_constant['x']=CaMn2P2_J_constant['J2']/CaMn2P2_J_constant['J1']\n",
    "CaMn2P2_J_constant['y']=CaMn2P2_J_constant['J3']/CaMn2P2_J_constant['J1']\n",
    "CaMn2P2_J_constant"
   ]
  },
  {
   "cell_type": "code",
   "execution_count": 44,
   "metadata": {
    "collapsed": false
   },
   "outputs": [
    {
     "data": {
      "text/plain": [
       "<matplotlib.text.Text at 0x11b9c5390>"
      ]
     },
     "execution_count": 44,
     "metadata": {},
     "output_type": "execute_result"
    },
    {
     "data": {
      "image/png": "[encoded data removed]",
      "text/plain": [
       "<matplotlib.figure.Figure at 0x11b7d2450>"
      ]
     },
     "metadata": {},
     "output_type": "display_data"
    }
   ],
   "source": [
    "rate_CaMn2As2_df= CaMn2As2_J_constant.drop(['J1','J2','J3'],axis=1)\n",
    "rate_CaMn2As2 = rate_CaMn2As2_df.values\n",
    "rate_CaMn2P2_df= CaMn2P2_J_constant.drop(['J1','J2','J3'],axis=1)\n",
    "rate_CaMn2P2 = rate_CaMn2P2_df.values\n",
    "\n",
    "x1 = np.linspace(0.5,1,50)\n",
    "y1 = (x1-np.sqrt(x1**2 + 2*((x1-0.5)**2)))/2\n",
    "\n",
    "x2 = np.linspace(0, 0.5,50)\n",
    "y2 = (0.5 + 3*x2 - np.sqrt(51/12 - 5*x2 + 9*(x2**2)))/4\n",
    "\n",
    "x3 = np.linspace(0, 0.5,50)\n",
    "y3 = (6*x3-1)/4\n",
    "\n",
    "x4 = np.linspace(0.5, 1, 50)\n",
    "y4 = (6*x4-1)/4\n",
    "\n",
    "x5=np.linspace(1.0/6, 0.5, 50)\n",
    "y5=0*x5\n",
    "\n",
    "x6=0.5*np.ones(50)\n",
    "y6=np.linspace(0.5,2,50)\n",
    "\n",
    "#x7=np.linspace(-1, -0.5, 50)\n",
    "#y7=(-1)*np.ones(50)\n",
    "\n",
    "#x8=(-0.5)*np.ones(50)\n",
    "#y8=np.linspace(-1, -2, 50)\n",
    "\n",
    "fig, ax = plt.subplots()\n",
    "ax.plot(x1, y1, color = 'blue')\n",
    "ax.plot(x2, y2, color = 'blue')\n",
    "ax.plot(x3, y3, color = 'blue')\n",
    "ax.plot(x4, y4, color = 'blue')\n",
    "ax.plot(x5, y5, color = 'blue')\n",
    "ax.plot(x6, y6, color = 'blue')\n",
    "#ax.plot(x7, y7, color = 'blue')\n",
    "#ax.plot(x8, y8, color = 'blue')\n",
    "ax.scatter(rate_CaMn2As2[0:8,0], rate_CaMn2As2[0:8,1],label='CaMn2As2')\n",
    "ax.scatter(rate_CaMn2P2[0:8,0], rate_CaMn2P2[0:8,1],label='CaMn2P2')\n",
    "ax.legend(loc='upper right')\n",
    "plt.xlabel('J2/J1')\n",
    "plt.ylabel('J3/J1')"
   ]
  },
  {
   "cell_type": "code",
   "execution_count": 13,
   "metadata": {
    "collapsed": false
   },
   "outputs": [
    {
     "data": {
      "text/html": [
       "<div>\n",
       "<table border=\"1\" class=\"dataframe\">\n",
       "  <thead>\n",
       "    <tr style=\"text-align: right;\">\n",
       "      <th></th>\n",
       "      <th>CaMn2P2_J2</th>\n",
       "      <th>CaMn2As2_J2</th>\n",
       "    </tr>\n",
       "  </thead>\n",
       "  <tbody>\n",
       "    <tr>\n",
       "      <th>0</th>\n",
       "      <td>14.73</td>\n",
       "      <td>26.10</td>\n",
       "    </tr>\n",
       "    <tr>\n",
       "      <th>1</th>\n",
       "      <td>26.90</td>\n",
       "      <td>25.97</td>\n",
       "    </tr>\n",
       "    <tr>\n",
       "      <th>2</th>\n",
       "      <td>31.12</td>\n",
       "      <td>24.96</td>\n",
       "    </tr>\n",
       "    <tr>\n",
       "      <th>3</th>\n",
       "      <td>30.30</td>\n",
       "      <td>23.39</td>\n",
       "    </tr>\n",
       "    <tr>\n",
       "      <th>4</th>\n",
       "      <td>28.85</td>\n",
       "      <td>21.41</td>\n",
       "    </tr>\n",
       "    <tr>\n",
       "      <th>5</th>\n",
       "      <td>26.86</td>\n",
       "      <td>19.31</td>\n",
       "    </tr>\n",
       "    <tr>\n",
       "      <th>6</th>\n",
       "      <td>24.57</td>\n",
       "      <td>17.23</td>\n",
       "    </tr>\n",
       "    <tr>\n",
       "      <th>7</th>\n",
       "      <td>22.24</td>\n",
       "      <td>15.29</td>\n",
       "    </tr>\n",
       "  </tbody>\n",
       "</table>\n",
       "</div>"
      ],
      "text/plain": [
       "   CaMn2P2_J2  CaMn2As2_J2\n",
       "0       14.73        26.10\n",
       "1       26.90        25.97\n",
       "2       31.12        24.96\n",
       "3       30.30        23.39\n",
       "4       28.85        21.41\n",
       "5       26.86        19.31\n",
       "6       24.57        17.23\n",
       "7       22.24        15.29"
      ]
     },
     "execution_count": 13,
     "metadata": {},
     "output_type": "execute_result"
    }
   ],
   "source": [
    "Mn_J2_constant = CaMn2As2_J_constant.drop(['J1','J2','J3','x','y'], axis=1)\n",
    "Mn_J2_constant['CaMn2P2_J2'] = CaMn2P2_J_constant['J2']\n",
    "Mn_J2_constant['CaMn2As2_J2'] = CaMn2As2_J_constant['J2']\n",
    "Mn_J2_constant"
   ]
  },
  {
   "cell_type": "code",
   "execution_count": 14,
   "metadata": {
    "collapsed": false
   },
   "outputs": [
    {
     "data": {
      "text/plain": [
       "<matplotlib.legend.Legend at 0x11a34ec50>"
      ]
     },
     "execution_count": 14,
     "metadata": {},
     "output_type": "execute_result"
    },
    {
     "data": {
      "image/png": "[encoded data removed]",
      "text/plain": [
       "<matplotlib.figure.Figure at 0x11a075250>"
      ]
     },
     "metadata": {},
     "output_type": "display_data"
    }
   ],
   "source": [
    "Mn_J2_constant_T = Mn_J2_constant.T\n",
    "Mn_J2_constant_T.plot( y=[0,1,2,3,4,5,6,7],kind='line')\n",
    "plt.legend(('u=0', 'u=0.5', 'u=1','u=1.5','u=2','u=2.5','u=3','u=3.5'),loc=4)"
   ]
  },
  {
   "cell_type": "code",
   "execution_count": 15,
   "metadata": {
    "collapsed": false
   },
   "outputs": [],
   "source": [
    "CaMn2As2_J_constant_gate = CaMn2As2_J_constant/4\n",
    "CaMn2P2_J_constant_gate = CaMn2P2_J_constant/4"
   ]
  },
  {
   "cell_type": "markdown",
   "metadata": {},
   "source": [
    "## Fe"
   ]
  },
  {
   "cell_type": "code",
   "execution_count": 16,
   "metadata": {
    "collapsed": false
   },
   "outputs": [
    {
     "data": {
      "text/html": [
       "<div>\n",
       "<table border=\"1\" class=\"dataframe\">\n",
       "  <thead>\n",
       "    <tr style=\"text-align: right;\">\n",
       "      <th></th>\n",
       "      <th>J1</th>\n",
       "      <th>J2</th>\n",
       "      <th>J3</th>\n",
       "      <th>x</th>\n",
       "      <th>y</th>\n",
       "    </tr>\n",
       "  </thead>\n",
       "  <tbody>\n",
       "    <tr>\n",
       "      <th>0</th>\n",
       "      <td>30.40</td>\n",
       "      <td>17.28</td>\n",
       "      <td>-3.67</td>\n",
       "      <td>0.568421</td>\n",
       "      <td>-0.120724</td>\n",
       "    </tr>\n",
       "    <tr>\n",
       "      <th>1</th>\n",
       "      <td>32.13</td>\n",
       "      <td>24.41</td>\n",
       "      <td>-3.14</td>\n",
       "      <td>0.759726</td>\n",
       "      <td>-0.097728</td>\n",
       "    </tr>\n",
       "    <tr>\n",
       "      <th>2</th>\n",
       "      <td>29.99</td>\n",
       "      <td>31.51</td>\n",
       "      <td>-1.03</td>\n",
       "      <td>1.050684</td>\n",
       "      <td>-0.034345</td>\n",
       "    </tr>\n",
       "    <tr>\n",
       "      <th>3</th>\n",
       "      <td>20.48</td>\n",
       "      <td>35.60</td>\n",
       "      <td>1.28</td>\n",
       "      <td>1.738281</td>\n",
       "      <td>0.062500</td>\n",
       "    </tr>\n",
       "    <tr>\n",
       "      <th>4</th>\n",
       "      <td>11.38</td>\n",
       "      <td>38.25</td>\n",
       "      <td>5.54</td>\n",
       "      <td>3.361160</td>\n",
       "      <td>0.486819</td>\n",
       "    </tr>\n",
       "    <tr>\n",
       "      <th>5</th>\n",
       "      <td>3.58</td>\n",
       "      <td>39.43</td>\n",
       "      <td>10.89</td>\n",
       "      <td>11.013966</td>\n",
       "      <td>3.041899</td>\n",
       "    </tr>\n",
       "    <tr>\n",
       "      <th>6</th>\n",
       "      <td>-4.18</td>\n",
       "      <td>37.83</td>\n",
       "      <td>16.31</td>\n",
       "      <td>-9.050239</td>\n",
       "      <td>-3.901914</td>\n",
       "    </tr>\n",
       "    <tr>\n",
       "      <th>7</th>\n",
       "      <td>-16.55</td>\n",
       "      <td>33.47</td>\n",
       "      <td>20.23</td>\n",
       "      <td>-2.022356</td>\n",
       "      <td>-1.222356</td>\n",
       "    </tr>\n",
       "  </tbody>\n",
       "</table>\n",
       "</div>"
      ],
      "text/plain": [
       "      J1     J2     J3          x         y\n",
       "0  30.40  17.28  -3.67   0.568421 -0.120724\n",
       "1  32.13  24.41  -3.14   0.759726 -0.097728\n",
       "2  29.99  31.51  -1.03   1.050684 -0.034345\n",
       "3  20.48  35.60   1.28   1.738281  0.062500\n",
       "4  11.38  38.25   5.54   3.361160  0.486819\n",
       "5   3.58  39.43  10.89  11.013966  3.041899\n",
       "6  -4.18  37.83  16.31  -9.050239 -3.901914\n",
       "7 -16.55  33.47  20.23  -2.022356 -1.222356"
      ]
     },
     "execution_count": 16,
     "metadata": {},
     "output_type": "execute_result"
    }
   ],
   "source": [
    "CaFe2As2_J_constant = pd.read_csv('./CaFe2As2/CaFe2As2_J_constant.txt', sep=' ', names=['J1', 'J2', 'J3'])\n",
    "CaFe2As2_J_constant['x']=CaFe2As2_J_constant['J2']/CaFe2As2_J_constant['J1']\n",
    "CaFe2As2_J_constant['y']=CaFe2As2_J_constant['J3']/CaFe2As2_J_constant['J1']\n",
    "CaFe2As2_J_constant"
   ]
  },
  {
   "cell_type": "code",
   "execution_count": 17,
   "metadata": {
    "collapsed": false
   },
   "outputs": [
    {
     "data": {
      "text/html": [
       "<div>\n",
       "<table border=\"1\" class=\"dataframe\">\n",
       "  <thead>\n",
       "    <tr style=\"text-align: right;\">\n",
       "      <th></th>\n",
       "      <th>J1</th>\n",
       "      <th>J2</th>\n",
       "      <th>J3</th>\n",
       "      <th>x</th>\n",
       "      <th>y</th>\n",
       "    </tr>\n",
       "  </thead>\n",
       "  <tbody>\n",
       "    <tr>\n",
       "      <th>0</th>\n",
       "      <td>11.97</td>\n",
       "      <td>3.83</td>\n",
       "      <td>3.91</td>\n",
       "      <td>0.319967</td>\n",
       "      <td>0.326650</td>\n",
       "    </tr>\n",
       "    <tr>\n",
       "      <th>1</th>\n",
       "      <td>19.65</td>\n",
       "      <td>8.22</td>\n",
       "      <td>-0.03</td>\n",
       "      <td>0.418321</td>\n",
       "      <td>-0.001527</td>\n",
       "    </tr>\n",
       "    <tr>\n",
       "      <th>2</th>\n",
       "      <td>25.22</td>\n",
       "      <td>14.59</td>\n",
       "      <td>-2.68</td>\n",
       "      <td>0.578509</td>\n",
       "      <td>-0.106265</td>\n",
       "    </tr>\n",
       "    <tr>\n",
       "      <th>3</th>\n",
       "      <td>27.21</td>\n",
       "      <td>21.49</td>\n",
       "      <td>-2.84</td>\n",
       "      <td>0.789783</td>\n",
       "      <td>-0.104373</td>\n",
       "    </tr>\n",
       "    <tr>\n",
       "      <th>4</th>\n",
       "      <td>26.35</td>\n",
       "      <td>28.70</td>\n",
       "      <td>-0.52</td>\n",
       "      <td>1.089184</td>\n",
       "      <td>-0.019734</td>\n",
       "    </tr>\n",
       "    <tr>\n",
       "      <th>5</th>\n",
       "      <td>26.35</td>\n",
       "      <td>36.59</td>\n",
       "      <td>4.44</td>\n",
       "      <td>1.388615</td>\n",
       "      <td>0.168501</td>\n",
       "    </tr>\n",
       "    <tr>\n",
       "      <th>6</th>\n",
       "      <td>28.59</td>\n",
       "      <td>42.04</td>\n",
       "      <td>11.67</td>\n",
       "      <td>1.470444</td>\n",
       "      <td>0.408185</td>\n",
       "    </tr>\n",
       "    <tr>\n",
       "      <th>7</th>\n",
       "      <td>38.03</td>\n",
       "      <td>35.98</td>\n",
       "      <td>22.62</td>\n",
       "      <td>0.946095</td>\n",
       "      <td>0.594794</td>\n",
       "    </tr>\n",
       "  </tbody>\n",
       "</table>\n",
       "</div>"
      ],
      "text/plain": [
       "      J1     J2     J3         x         y\n",
       "0  11.97   3.83   3.91  0.319967  0.326650\n",
       "1  19.65   8.22  -0.03  0.418321 -0.001527\n",
       "2  25.22  14.59  -2.68  0.578509 -0.106265\n",
       "3  27.21  21.49  -2.84  0.789783 -0.104373\n",
       "4  26.35  28.70  -0.52  1.089184 -0.019734\n",
       "5  26.35  36.59   4.44  1.388615  0.168501\n",
       "6  28.59  42.04  11.67  1.470444  0.408185\n",
       "7  38.03  35.98  22.62  0.946095  0.594794"
      ]
     },
     "execution_count": 17,
     "metadata": {},
     "output_type": "execute_result"
    }
   ],
   "source": [
    "CaFe2P2_J_constant = pd.read_csv('./CaFe2P2/CaFe2P2_J_constant.txt', sep=' ', names=['J1', 'J2', 'J3'])\n",
    "CaFe2P2_J_constant['x']=CaFe2P2_J_constant['J2']/CaFe2P2_J_constant['J1']\n",
    "CaFe2P2_J_constant['y']=CaFe2P2_J_constant['J3']/CaFe2P2_J_constant['J1']\n",
    "CaFe2P2_J_constant"
   ]
  },
  {
   "cell_type": "code",
   "execution_count": 59,
   "metadata": {
    "collapsed": false
   },
   "outputs": [
    {
     "data": {
      "text/plain": [
       "<matplotlib.text.Text at 0x11c159ed0>"
      ]
     },
     "execution_count": 59,
     "metadata": {},
     "output_type": "execute_result"
    },
    {
     "data": {
      "image/png": "[encoded data removed]",
      "text/plain": [
       "<matplotlib.figure.Figure at 0x11bf76e90>"
      ]
     },
     "metadata": {},
     "output_type": "display_data"
    }
   ],
   "source": [
    "rate_CaFe2As2_df= CaFe2As2_J_constant.drop(['J1','J2','J3'],axis=1)\n",
    "rate_CaFe2As2 = rate_CaFe2As2_df.values\n",
    "\n",
    "rate_CaFe2P2_df= CaFe2P2_J_constant.drop(['J1','J2','J3'],axis=1)\n",
    "rate_CaFe2P2 = rate_CaFe2P2_df.values\n",
    "\n",
    "x1 = np.linspace(0.5,4,50)\n",
    "y1 = (x1-np.sqrt(x1**2 + 2*((x1-0.5)**2)))/2\n",
    "\n",
    "x2 = np.linspace(-0.5, 0.5,50)\n",
    "y2 = (0.5 + 3*x2 - np.sqrt(51/12 - 5*x2 + 9*(x2**2)))/4\n",
    "\n",
    "x3 = np.linspace(-0.5, 0.5,50)\n",
    "y3 = (6*x3-1)/4\n",
    "\n",
    "x4 = np.linspace(0.5, 4, 50)\n",
    "y4 = (6*x4-1)/4\n",
    "\n",
    "x5=np.linspace(1.0/6, 0.5, 50)\n",
    "y5=0*x5\n",
    "\n",
    "x6=0.5*np.ones(50)\n",
    "y6=np.linspace(0.5,2,50)\n",
    "\n",
    "x7=np.linspace(-1, -0.5, 50)\n",
    "y7=(-1)*np.ones(50)\n",
    "\n",
    "x8=(-0.5)*np.ones(50)\n",
    "y8=np.linspace(-1, -2, 50)\n",
    "\n",
    "fig, ax = plt.subplots()\n",
    "ax.plot(x1, y1, color = 'blue')\n",
    "ax.plot(x2, y2, color = 'blue')\n",
    "ax.plot(x3, y3, color = 'blue')\n",
    "ax.plot(x4, y4, color = 'blue')\n",
    "ax.plot(x5, y5, color = 'blue')\n",
    "ax.plot(x6, y6, color = 'blue')\n",
    "ax.plot(x7, y7, color = 'blue')\n",
    "ax.plot(x8, y8, color = 'blue')\n",
    "ax.scatter(rate_CaFe2As2[0:5,0], rate_CaFe2As2[0:5,1],label='CaFe2As2')\n",
    "ax.scatter(rate_CaFe2P2[0:8,0], rate_CaFe2P2[0:8,1],label='CaFe2P2')\n",
    "ax.legend(loc='upper right')\n",
    "plt.xlabel('J2/J1')\n",
    "plt.ylabel('J3/J1')"
   ]
  },
  {
   "cell_type": "code",
   "execution_count": 19,
   "metadata": {
    "collapsed": false
   },
   "outputs": [
    {
     "data": {
      "text/html": [
       "<div>\n",
       "<table border=\"1\" class=\"dataframe\">\n",
       "  <thead>\n",
       "    <tr style=\"text-align: right;\">\n",
       "      <th></th>\n",
       "      <th>CaFe2P2_J2</th>\n",
       "      <th>CaFe2As2_J2</th>\n",
       "    </tr>\n",
       "  </thead>\n",
       "  <tbody>\n",
       "    <tr>\n",
       "      <th>0</th>\n",
       "      <td>3.83</td>\n",
       "      <td>17.28</td>\n",
       "    </tr>\n",
       "    <tr>\n",
       "      <th>1</th>\n",
       "      <td>8.22</td>\n",
       "      <td>24.41</td>\n",
       "    </tr>\n",
       "    <tr>\n",
       "      <th>2</th>\n",
       "      <td>14.59</td>\n",
       "      <td>31.51</td>\n",
       "    </tr>\n",
       "    <tr>\n",
       "      <th>3</th>\n",
       "      <td>21.49</td>\n",
       "      <td>35.60</td>\n",
       "    </tr>\n",
       "    <tr>\n",
       "      <th>4</th>\n",
       "      <td>28.70</td>\n",
       "      <td>38.25</td>\n",
       "    </tr>\n",
       "    <tr>\n",
       "      <th>5</th>\n",
       "      <td>36.59</td>\n",
       "      <td>39.43</td>\n",
       "    </tr>\n",
       "    <tr>\n",
       "      <th>6</th>\n",
       "      <td>42.04</td>\n",
       "      <td>37.83</td>\n",
       "    </tr>\n",
       "    <tr>\n",
       "      <th>7</th>\n",
       "      <td>35.98</td>\n",
       "      <td>33.47</td>\n",
       "    </tr>\n",
       "  </tbody>\n",
       "</table>\n",
       "</div>"
      ],
      "text/plain": [
       "   CaFe2P2_J2  CaFe2As2_J2\n",
       "0        3.83        17.28\n",
       "1        8.22        24.41\n",
       "2       14.59        31.51\n",
       "3       21.49        35.60\n",
       "4       28.70        38.25\n",
       "5       36.59        39.43\n",
       "6       42.04        37.83\n",
       "7       35.98        33.47"
      ]
     },
     "execution_count": 19,
     "metadata": {},
     "output_type": "execute_result"
    }
   ],
   "source": [
    "Fe_J2_constant = CaFe2As2_J_constant.drop(['J1','J2','J3','x','y'], axis=1)\n",
    "Fe_J2_constant['CaFe2P2_J2'] = CaFe2P2_J_constant['J2']\n",
    "Fe_J2_constant['CaFe2As2_J2'] = CaFe2As2_J_constant['J2']\n",
    "Fe_J2_constant"
   ]
  },
  {
   "cell_type": "code",
   "execution_count": 20,
   "metadata": {
    "collapsed": false
   },
   "outputs": [
    {
     "data": {
      "text/plain": [
       "<matplotlib.legend.Legend at 0x11a43c0d0>"
      ]
     },
     "execution_count": 20,
     "metadata": {},
     "output_type": "execute_result"
    },
    {
     "data": {
      "image/png": "[encoded data removed]",
      "text/plain": [
       "<matplotlib.figure.Figure at 0x11a412f10>"
      ]
     },
     "metadata": {},
     "output_type": "display_data"
    }
   ],
   "source": [
    "Fe_J2_constant_T = Fe_J2_constant.T\n",
    "Fe_J2_constant_T.plot( y=[0,1,2,3,4,5,6,7],kind='line')\n",
    "plt.legend(('u=0', 'u=0.5', 'u=1','u=1.5','u=2','u=2.5','u=3','u=3.5'),loc=4)"
   ]
  },
  {
   "cell_type": "code",
   "execution_count": 21,
   "metadata": {
    "collapsed": true
   },
   "outputs": [],
   "source": [
    "CaFe2As2_J_constant_gate = CaFe2As2_J_constant\n",
    "CaFe2P2_J_constant_gate = CaFe2P2_J_constant"
   ]
  },
  {
   "cell_type": "markdown",
   "metadata": {},
   "source": [
    "## Co"
   ]
  },
  {
   "cell_type": "markdown",
   "metadata": {},
   "source": [
    "## As_J2"
   ]
  },
  {
   "cell_type": "code",
   "execution_count": 23,
   "metadata": {
    "collapsed": false
   },
   "outputs": [
    {
     "data": {
      "text/html": [
       "<div>\n",
       "<table border=\"1\" class=\"dataframe\">\n",
       "  <thead>\n",
       "    <tr style=\"text-align: right;\">\n",
       "      <th></th>\n",
       "      <th>CaCr2As2_J2</th>\n",
       "      <th>CaMn2As2_J2</th>\n",
       "      <th>CaFe2As2_J2</th>\n",
       "    </tr>\n",
       "  </thead>\n",
       "  <tbody>\n",
       "    <tr>\n",
       "      <th>0</th>\n",
       "      <td>-4.3900</td>\n",
       "      <td>6.5250</td>\n",
       "      <td>17.28</td>\n",
       "    </tr>\n",
       "    <tr>\n",
       "      <th>1</th>\n",
       "      <td>-5.7450</td>\n",
       "      <td>6.4925</td>\n",
       "      <td>24.41</td>\n",
       "    </tr>\n",
       "    <tr>\n",
       "      <th>2</th>\n",
       "      <td>-6.9900</td>\n",
       "      <td>6.2400</td>\n",
       "      <td>31.51</td>\n",
       "    </tr>\n",
       "    <tr>\n",
       "      <th>3</th>\n",
       "      <td>-7.9500</td>\n",
       "      <td>5.8475</td>\n",
       "      <td>35.60</td>\n",
       "    </tr>\n",
       "    <tr>\n",
       "      <th>4</th>\n",
       "      <td>-8.6750</td>\n",
       "      <td>5.3525</td>\n",
       "      <td>38.25</td>\n",
       "    </tr>\n",
       "    <tr>\n",
       "      <th>5</th>\n",
       "      <td>-9.2200</td>\n",
       "      <td>4.8275</td>\n",
       "      <td>39.43</td>\n",
       "    </tr>\n",
       "    <tr>\n",
       "      <th>6</th>\n",
       "      <td>-9.6275</td>\n",
       "      <td>4.3075</td>\n",
       "      <td>37.83</td>\n",
       "    </tr>\n",
       "    <tr>\n",
       "      <th>7</th>\n",
       "      <td>-9.9275</td>\n",
       "      <td>3.8225</td>\n",
       "      <td>33.47</td>\n",
       "    </tr>\n",
       "  </tbody>\n",
       "</table>\n",
       "</div>"
      ],
      "text/plain": [
       "   CaCr2As2_J2  CaMn2As2_J2  CaFe2As2_J2\n",
       "0      -4.3900       6.5250        17.28\n",
       "1      -5.7450       6.4925        24.41\n",
       "2      -6.9900       6.2400        31.51\n",
       "3      -7.9500       5.8475        35.60\n",
       "4      -8.6750       5.3525        38.25\n",
       "5      -9.2200       4.8275        39.43\n",
       "6      -9.6275       4.3075        37.83\n",
       "7      -9.9275       3.8225        33.47"
      ]
     },
     "execution_count": 23,
     "metadata": {},
     "output_type": "execute_result"
    }
   ],
   "source": [
    "J2_constant_gate = CaCr2As2_J_constant_gate.drop(['J1','J2','J3','x','y'], axis=1)\n",
    "J2_constant_gate['CaCr2As2_J2'] = CaCr2As2_J_constant_gate['J2']\n",
    "J2_constant_gate['CaMn2As2_J2'] = CaMn2As2_J_constant_gate['J2']\n",
    "J2_constant_gate['CaFe2As2_J2'] = CaFe2As2_J_constant_gate['J2']\n",
    "J2_constant_gate"
   ]
  },
  {
   "cell_type": "code",
   "execution_count": 25,
   "metadata": {
    "collapsed": false
   },
   "outputs": [
    {
     "data": {
      "text/plain": [
       "<matplotlib.legend.Legend at 0x11a713850>"
      ]
     },
     "execution_count": 25,
     "metadata": {},
     "output_type": "execute_result"
    },
    {
     "data": {
      "image/png": "[encoded data removed]",
      "text/plain": [
       "<matplotlib.figure.Figure at 0x11a713c10>"
      ]
     },
     "metadata": {},
     "output_type": "display_data"
    }
   ],
   "source": [
    "J2_constant_gate_T = all_J2_constant_gate.T\n",
    "J2_constant_gate_T.plot( y=[0,1,2,3,4,5,6,7],kind='line')\n",
    "plt.legend(('u=0', 'u=0.5', 'u=1','u=1.5','u=2','u=2.5','u=3','u=3.5'),loc=2)"
   ]
  },
  {
   "cell_type": "code",
   "execution_count": 26,
   "metadata": {
    "collapsed": false
   },
   "outputs": [
    {
     "data": {
      "text/html": [
       "<div>\n",
       "<table border=\"1\" class=\"dataframe\">\n",
       "  <thead>\n",
       "    <tr style=\"text-align: right;\">\n",
       "      <th></th>\n",
       "      <th>CaCr2As2_J2</th>\n",
       "      <th>CaMn2As2_J2</th>\n",
       "      <th>CaFe2As2_J2</th>\n",
       "    </tr>\n",
       "  </thead>\n",
       "  <tbody>\n",
       "    <tr>\n",
       "      <th>0</th>\n",
       "      <td>-17.56</td>\n",
       "      <td>26.10</td>\n",
       "      <td>17.28</td>\n",
       "    </tr>\n",
       "    <tr>\n",
       "      <th>1</th>\n",
       "      <td>-22.98</td>\n",
       "      <td>25.97</td>\n",
       "      <td>24.41</td>\n",
       "    </tr>\n",
       "    <tr>\n",
       "      <th>2</th>\n",
       "      <td>-27.96</td>\n",
       "      <td>24.96</td>\n",
       "      <td>31.51</td>\n",
       "    </tr>\n",
       "    <tr>\n",
       "      <th>3</th>\n",
       "      <td>-31.80</td>\n",
       "      <td>23.39</td>\n",
       "      <td>35.60</td>\n",
       "    </tr>\n",
       "    <tr>\n",
       "      <th>4</th>\n",
       "      <td>-34.70</td>\n",
       "      <td>21.41</td>\n",
       "      <td>38.25</td>\n",
       "    </tr>\n",
       "    <tr>\n",
       "      <th>5</th>\n",
       "      <td>-36.88</td>\n",
       "      <td>19.31</td>\n",
       "      <td>39.43</td>\n",
       "    </tr>\n",
       "    <tr>\n",
       "      <th>6</th>\n",
       "      <td>-38.51</td>\n",
       "      <td>17.23</td>\n",
       "      <td>37.83</td>\n",
       "    </tr>\n",
       "    <tr>\n",
       "      <th>7</th>\n",
       "      <td>-39.71</td>\n",
       "      <td>15.29</td>\n",
       "      <td>33.47</td>\n",
       "    </tr>\n",
       "  </tbody>\n",
       "</table>\n",
       "</div>"
      ],
      "text/plain": [
       "   CaCr2As2_J2  CaMn2As2_J2  CaFe2As2_J2\n",
       "0       -17.56        26.10        17.28\n",
       "1       -22.98        25.97        24.41\n",
       "2       -27.96        24.96        31.51\n",
       "3       -31.80        23.39        35.60\n",
       "4       -34.70        21.41        38.25\n",
       "5       -36.88        19.31        39.43\n",
       "6       -38.51        17.23        37.83\n",
       "7       -39.71        15.29        33.47"
      ]
     },
     "execution_count": 26,
     "metadata": {},
     "output_type": "execute_result"
    }
   ],
   "source": [
    "J2_constant = CaCr2As2_J_constant.drop(['J1','J2','J3','x','y'], axis=1)\n",
    "J2_constant['CaCr2As2_J2'] = CaCr2As2_J_constant['J2']\n",
    "J2_constant['CaMn2As2_J2'] = CaMn2As2_J_constant['J2']\n",
    "J2_constant['CaFe2As2_J2'] = CaFe2As2_J_constant['J2']\n",
    "J2_constant"
   ]
  },
  {
   "cell_type": "code",
   "execution_count": 29,
   "metadata": {
    "collapsed": false
   },
   "outputs": [
    {
     "data": {
      "text/plain": [
       "<matplotlib.legend.Legend at 0x11a404750>"
      ]
     },
     "execution_count": 29,
     "metadata": {},
     "output_type": "execute_result"
    },
    {
     "data": {
      "image/png": "[encoded data removed]",
      "text/plain": [
       "<matplotlib.figure.Figure at 0x11ab88b10>"
      ]
     },
     "metadata": {},
     "output_type": "display_data"
    }
   ],
   "source": [
    "J2_constant_T = J2_constant.T\n",
    "J2_constant_T.plot( y=[0,1,2,3,4,5,6,7],kind='line')\n",
    "plt.legend(('u=0', 'u=0.5', 'u=1','u=1.5','u=2','u=2.5','u=3','u=3.5'),loc=2)"
   ]
  },
  {
   "cell_type": "markdown",
   "metadata": {},
   "source": [
    "## P_J2"
   ]
  },
  {
   "cell_type": "code",
   "execution_count": 33,
   "metadata": {
    "collapsed": false
   },
   "outputs": [
    {
     "data": {
      "text/html": [
       "<div>\n",
       "<table border=\"1\" class=\"dataframe\">\n",
       "  <thead>\n",
       "    <tr style=\"text-align: right;\">\n",
       "      <th></th>\n",
       "      <th>CaCr2P2_J2</th>\n",
       "      <th>CaMn2P2_J2</th>\n",
       "      <th>CaFe2P2_J2</th>\n",
       "    </tr>\n",
       "  </thead>\n",
       "  <tbody>\n",
       "    <tr>\n",
       "      <th>0</th>\n",
       "      <td>-4.3900</td>\n",
       "      <td>3.6825</td>\n",
       "      <td>3.83</td>\n",
       "    </tr>\n",
       "    <tr>\n",
       "      <th>1</th>\n",
       "      <td>-5.7450</td>\n",
       "      <td>6.7250</td>\n",
       "      <td>8.22</td>\n",
       "    </tr>\n",
       "    <tr>\n",
       "      <th>2</th>\n",
       "      <td>-6.9900</td>\n",
       "      <td>7.7800</td>\n",
       "      <td>14.59</td>\n",
       "    </tr>\n",
       "    <tr>\n",
       "      <th>3</th>\n",
       "      <td>-7.9500</td>\n",
       "      <td>7.5750</td>\n",
       "      <td>21.49</td>\n",
       "    </tr>\n",
       "    <tr>\n",
       "      <th>4</th>\n",
       "      <td>-8.6750</td>\n",
       "      <td>7.2125</td>\n",
       "      <td>28.70</td>\n",
       "    </tr>\n",
       "    <tr>\n",
       "      <th>5</th>\n",
       "      <td>-9.2200</td>\n",
       "      <td>6.7150</td>\n",
       "      <td>36.59</td>\n",
       "    </tr>\n",
       "    <tr>\n",
       "      <th>6</th>\n",
       "      <td>-9.6275</td>\n",
       "      <td>6.1425</td>\n",
       "      <td>42.04</td>\n",
       "    </tr>\n",
       "    <tr>\n",
       "      <th>7</th>\n",
       "      <td>-9.9275</td>\n",
       "      <td>5.5600</td>\n",
       "      <td>35.98</td>\n",
       "    </tr>\n",
       "  </tbody>\n",
       "</table>\n",
       "</div>"
      ],
      "text/plain": [
       "   CaCr2P2_J2  CaMn2P2_J2  CaFe2P2_J2\n",
       "0     -4.3900      3.6825        3.83\n",
       "1     -5.7450      6.7250        8.22\n",
       "2     -6.9900      7.7800       14.59\n",
       "3     -7.9500      7.5750       21.49\n",
       "4     -8.6750      7.2125       28.70\n",
       "5     -9.2200      6.7150       36.59\n",
       "6     -9.6275      6.1425       42.04\n",
       "7     -9.9275      5.5600       35.98"
      ]
     },
     "execution_count": 33,
     "metadata": {},
     "output_type": "execute_result"
    }
   ],
   "source": [
    "P_J2_constant_gate = CaCr2P2_J_constant_gate.drop(['J1','J2','J3','x','y'], axis=1)\n",
    "P_J2_constant_gate['CaCr2P2_J2'] = CaCr2P2_J_constant_gate['J2']\n",
    "P_J2_constant_gate['CaMn2P2_J2'] = CaMn2P2_J_constant_gate['J2']\n",
    "P_J2_constant_gate['CaFe2P2_J2'] = CaFe2P2_J_constant_gate['J2']\n",
    "P_J2_constant_gate"
   ]
  },
  {
   "cell_type": "code",
   "execution_count": 34,
   "metadata": {
    "collapsed": false
   },
   "outputs": [
    {
     "data": {
      "text/plain": [
       "<matplotlib.legend.Legend at 0x11af40a90>"
      ]
     },
     "execution_count": 34,
     "metadata": {},
     "output_type": "execute_result"
    },
    {
     "data": {
      "image/png": "[encoded data removed]",
      "text/plain": [
       "<matplotlib.figure.Figure at 0x11acf6f50>"
      ]
     },
     "metadata": {},
     "output_type": "display_data"
    }
   ],
   "source": [
    "P_J2_constant_gate_T = P_J2_constant_gate.T\n",
    "P_J2_constant_gate_T.plot( y=[0,1,2,3,4,5,6,7],kind='line')\n",
    "plt.legend(('u=0', 'u=0.5', 'u=1','u=1.5','u=2','u=2.5','u=3','u=3.5'),loc=2)"
   ]
  },
  {
   "cell_type": "code",
   "execution_count": 30,
   "metadata": {
    "collapsed": false
   },
   "outputs": [
    {
     "data": {
      "text/html": [
       "<div>\n",
       "<table border=\"1\" class=\"dataframe\">\n",
       "  <thead>\n",
       "    <tr style=\"text-align: right;\">\n",
       "      <th></th>\n",
       "      <th>CaCr2P2_J2</th>\n",
       "      <th>CaMn2P2_J2</th>\n",
       "      <th>CaFe2P2_J2</th>\n",
       "    </tr>\n",
       "  </thead>\n",
       "  <tbody>\n",
       "    <tr>\n",
       "      <th>0</th>\n",
       "      <td>-3.76</td>\n",
       "      <td>14.73</td>\n",
       "      <td>3.83</td>\n",
       "    </tr>\n",
       "    <tr>\n",
       "      <th>1</th>\n",
       "      <td>-12.68</td>\n",
       "      <td>26.90</td>\n",
       "      <td>8.22</td>\n",
       "    </tr>\n",
       "    <tr>\n",
       "      <th>2</th>\n",
       "      <td>-16.43</td>\n",
       "      <td>31.12</td>\n",
       "      <td>14.59</td>\n",
       "    </tr>\n",
       "    <tr>\n",
       "      <th>3</th>\n",
       "      <td>-21.30</td>\n",
       "      <td>30.30</td>\n",
       "      <td>21.49</td>\n",
       "    </tr>\n",
       "    <tr>\n",
       "      <th>4</th>\n",
       "      <td>-26.16</td>\n",
       "      <td>28.85</td>\n",
       "      <td>28.70</td>\n",
       "    </tr>\n",
       "    <tr>\n",
       "      <th>5</th>\n",
       "      <td>-30.20</td>\n",
       "      <td>26.86</td>\n",
       "      <td>36.59</td>\n",
       "    </tr>\n",
       "    <tr>\n",
       "      <th>6</th>\n",
       "      <td>-33.51</td>\n",
       "      <td>24.57</td>\n",
       "      <td>42.04</td>\n",
       "    </tr>\n",
       "    <tr>\n",
       "      <th>7</th>\n",
       "      <td>-36.17</td>\n",
       "      <td>22.24</td>\n",
       "      <td>35.98</td>\n",
       "    </tr>\n",
       "  </tbody>\n",
       "</table>\n",
       "</div>"
      ],
      "text/plain": [
       "   CaCr2P2_J2  CaMn2P2_J2  CaFe2P2_J2\n",
       "0       -3.76       14.73        3.83\n",
       "1      -12.68       26.90        8.22\n",
       "2      -16.43       31.12       14.59\n",
       "3      -21.30       30.30       21.49\n",
       "4      -26.16       28.85       28.70\n",
       "5      -30.20       26.86       36.59\n",
       "6      -33.51       24.57       42.04\n",
       "7      -36.17       22.24       35.98"
      ]
     },
     "execution_count": 30,
     "metadata": {},
     "output_type": "execute_result"
    }
   ],
   "source": [
    "P_J2_constant = CaCr2P2_J_constant.drop(['J1','J2','J3','x','y'], axis=1)\n",
    "P_J2_constant['CaCr2P2_J2'] = CaCr2P2_J_constant['J2']\n",
    "P_J2_constant['CaMn2P2_J2'] = CaMn2P2_J_constant['J2']\n",
    "P_J2_constant['CaFe2P2_J2'] = CaFe2P2_J_constant['J2']\n",
    "P_J2_constant"
   ]
  },
  {
   "cell_type": "code",
   "execution_count": 32,
   "metadata": {
    "collapsed": false
   },
   "outputs": [
    {
     "data": {
      "text/plain": [
       "<matplotlib.legend.Legend at 0x11ace9550>"
      ]
     },
     "execution_count": 32,
     "metadata": {},
     "output_type": "execute_result"
    },
    {
     "data": {
      "image/png": "[encoded data removed]",
      "text/plain": [
       "<matplotlib.figure.Figure at 0x11ab880d0>"
      ]
     },
     "metadata": {},
     "output_type": "display_data"
    }
   ],
   "source": [
    "P_J2_constant_T = P_J2_constant.T\n",
    "P_J2_constant_T.plot( y=[0,1,2,3,4,5,6,7],kind='line')\n",
    "plt.legend(('u=0', 'u=0.5', 'u=1','u=1.5','u=2','u=2.5','u=3','u=3.5'),loc=2)"
   ]
  },
  {
   "cell_type": "markdown",
   "metadata": {},
   "source": [
    "## Moment"
   ]
  },
  {
   "cell_type": "code",
   "execution_count": 38,
   "metadata": {
    "collapsed": false
   },
   "outputs": [
    {
     "data": {
      "text/html": [
       "<div>\n",
       "<table border=\"1\" class=\"dataframe\">\n",
       "  <thead>\n",
       "    <tr style=\"text-align: right;\">\n",
       "      <th></th>\n",
       "      <th>1_FM</th>\n",
       "      <th>2_AF</th>\n",
       "      <th>3_Zigzag</th>\n",
       "      <th>4_Stripy</th>\n",
       "      <th>delta_moment</th>\n",
       "    </tr>\n",
       "  </thead>\n",
       "  <tbody>\n",
       "    <tr>\n",
       "      <th>0</th>\n",
       "      <td>3.389</td>\n",
       "      <td>3.148</td>\n",
       "      <td>3.214</td>\n",
       "      <td>3.078</td>\n",
       "      <td>0.311</td>\n",
       "    </tr>\n",
       "    <tr>\n",
       "      <th>1</th>\n",
       "      <td>3.612</td>\n",
       "      <td>3.292</td>\n",
       "      <td>3.354</td>\n",
       "      <td>3.247</td>\n",
       "      <td>0.365</td>\n",
       "    </tr>\n",
       "    <tr>\n",
       "      <th>2</th>\n",
       "      <td>3.680</td>\n",
       "      <td>3.415</td>\n",
       "      <td>3.468</td>\n",
       "      <td>3.382</td>\n",
       "      <td>0.298</td>\n",
       "    </tr>\n",
       "    <tr>\n",
       "      <th>3</th>\n",
       "      <td>3.733</td>\n",
       "      <td>3.519</td>\n",
       "      <td>3.564</td>\n",
       "      <td>3.493</td>\n",
       "      <td>0.240</td>\n",
       "    </tr>\n",
       "    <tr>\n",
       "      <th>4</th>\n",
       "      <td>3.784</td>\n",
       "      <td>3.610</td>\n",
       "      <td>3.648</td>\n",
       "      <td>3.589</td>\n",
       "      <td>0.195</td>\n",
       "    </tr>\n",
       "    <tr>\n",
       "      <th>5</th>\n",
       "      <td>3.833</td>\n",
       "      <td>3.692</td>\n",
       "      <td>3.723</td>\n",
       "      <td>3.672</td>\n",
       "      <td>0.161</td>\n",
       "    </tr>\n",
       "    <tr>\n",
       "      <th>6</th>\n",
       "      <td>3.880</td>\n",
       "      <td>3.765</td>\n",
       "      <td>3.791</td>\n",
       "      <td>3.747</td>\n",
       "      <td>0.133</td>\n",
       "    </tr>\n",
       "    <tr>\n",
       "      <th>7</th>\n",
       "      <td>3.927</td>\n",
       "      <td>3.832</td>\n",
       "      <td>3.854</td>\n",
       "      <td>3.815</td>\n",
       "      <td>0.112</td>\n",
       "    </tr>\n",
       "  </tbody>\n",
       "</table>\n",
       "</div>"
      ],
      "text/plain": [
       "    1_FM   2_AF  3_Zigzag  4_Stripy  delta_moment\n",
       "0  3.389  3.148     3.214     3.078         0.311\n",
       "1  3.612  3.292     3.354     3.247         0.365\n",
       "2  3.680  3.415     3.468     3.382         0.298\n",
       "3  3.733  3.519     3.564     3.493         0.240\n",
       "4  3.784  3.610     3.648     3.589         0.195\n",
       "5  3.833  3.692     3.723     3.672         0.161\n",
       "6  3.880  3.765     3.791     3.747         0.133\n",
       "7  3.927  3.832     3.854     3.815         0.112"
      ]
     },
     "execution_count": 38,
     "metadata": {},
     "output_type": "execute_result"
    }
   ],
   "source": [
    "CaCr2As2_moment = pd.read_csv('./CaCr2As2/CaCr2As2_moment.txt', sep='\\t', names=['1_FM', '2_AF', '3_Zigzag','4_Stripy'])\n",
    "f = lambda x: x.max() - x.min()\n",
    "delta = CaCr2As2_moment.apply(f, axis=1)\n",
    "delta_df = pd.DataFrame(delta)\n",
    "CaCr2As2_moment['delta_moment'] = delta_df[0]\n",
    "CaCr2As2_moment"
   ]
  },
  {
   "cell_type": "code",
   "execution_count": 39,
   "metadata": {
    "collapsed": false
   },
   "outputs": [
    {
     "data": {
      "text/html": [
       "<div>\n",
       "<table border=\"1\" class=\"dataframe\">\n",
       "  <thead>\n",
       "    <tr style=\"text-align: right;\">\n",
       "      <th></th>\n",
       "      <th>1_FM</th>\n",
       "      <th>2_AF</th>\n",
       "      <th>3_Zigzag</th>\n",
       "      <th>4_Stripy</th>\n",
       "      <th>delta_moment</th>\n",
       "    </tr>\n",
       "  </thead>\n",
       "  <tbody>\n",
       "    <tr>\n",
       "      <th>0</th>\n",
       "      <td>1.985</td>\n",
       "      <td>2.862</td>\n",
       "      <td>2.343</td>\n",
       "      <td>2.694</td>\n",
       "      <td>0.877</td>\n",
       "    </tr>\n",
       "    <tr>\n",
       "      <th>1</th>\n",
       "      <td>3.214</td>\n",
       "      <td>3.045</td>\n",
       "      <td>3.095</td>\n",
       "      <td>2.928</td>\n",
       "      <td>0.286</td>\n",
       "    </tr>\n",
       "    <tr>\n",
       "      <th>2</th>\n",
       "      <td>3.398</td>\n",
       "      <td>3.193</td>\n",
       "      <td>3.250</td>\n",
       "      <td>3.108</td>\n",
       "      <td>0.290</td>\n",
       "    </tr>\n",
       "    <tr>\n",
       "      <th>3</th>\n",
       "      <td>3.604</td>\n",
       "      <td>3.318</td>\n",
       "      <td>3.370</td>\n",
       "      <td>3.252</td>\n",
       "      <td>0.352</td>\n",
       "    </tr>\n",
       "    <tr>\n",
       "      <th>4</th>\n",
       "      <td>3.681</td>\n",
       "      <td>3.426</td>\n",
       "      <td>3.472</td>\n",
       "      <td>3.374</td>\n",
       "      <td>0.307</td>\n",
       "    </tr>\n",
       "    <tr>\n",
       "      <th>5</th>\n",
       "      <td>3.739</td>\n",
       "      <td>3.523</td>\n",
       "      <td>3.560</td>\n",
       "      <td>3.480</td>\n",
       "      <td>0.259</td>\n",
       "    </tr>\n",
       "    <tr>\n",
       "      <th>6</th>\n",
       "      <td>3.789</td>\n",
       "      <td>3.609</td>\n",
       "      <td>3.639</td>\n",
       "      <td>3.571</td>\n",
       "      <td>0.218</td>\n",
       "    </tr>\n",
       "    <tr>\n",
       "      <th>7</th>\n",
       "      <td>3.838</td>\n",
       "      <td>3.687</td>\n",
       "      <td>3.712</td>\n",
       "      <td>3.653</td>\n",
       "      <td>0.185</td>\n",
       "    </tr>\n",
       "  </tbody>\n",
       "</table>\n",
       "</div>"
      ],
      "text/plain": [
       "    1_FM   2_AF  3_Zigzag  4_Stripy  delta_moment\n",
       "0  1.985  2.862     2.343     2.694         0.877\n",
       "1  3.214  3.045     3.095     2.928         0.286\n",
       "2  3.398  3.193     3.250     3.108         0.290\n",
       "3  3.604  3.318     3.370     3.252         0.352\n",
       "4  3.681  3.426     3.472     3.374         0.307\n",
       "5  3.739  3.523     3.560     3.480         0.259\n",
       "6  3.789  3.609     3.639     3.571         0.218\n",
       "7  3.838  3.687     3.712     3.653         0.185"
      ]
     },
     "execution_count": 39,
     "metadata": {},
     "output_type": "execute_result"
    }
   ],
   "source": [
    "CaCr2P2_moment = pd.read_csv('./CaCr2P2/CaCr2P2_moment.txt', sep='\\t', names=['1_FM', '2_AF', '3_Zigzag','4_Stripy'])\n",
    "f = lambda x: x.max() - x.min()\n",
    "delta = CaCr2P2_moment.apply(f, axis=1)\n",
    "delta_df = pd.DataFrame(delta)\n",
    "CaCr2P2_moment['delta_moment'] = delta_df[0]\n",
    "CaCr2P2_moment"
   ]
  },
  {
   "cell_type": "code",
   "execution_count": 40,
   "metadata": {
    "collapsed": false
   },
   "outputs": [
    {
     "data": {
      "text/html": [
       "<div>\n",
       "<table border=\"1\" class=\"dataframe\">\n",
       "  <thead>\n",
       "    <tr style=\"text-align: right;\">\n",
       "      <th></th>\n",
       "      <th>1_FM</th>\n",
       "      <th>2_AF</th>\n",
       "      <th>3_Zigzag</th>\n",
       "      <th>4_Stripy</th>\n",
       "      <th>delta_moment</th>\n",
       "    </tr>\n",
       "  </thead>\n",
       "  <tbody>\n",
       "    <tr>\n",
       "      <th>0</th>\n",
       "      <td>3.585</td>\n",
       "      <td>3.721</td>\n",
       "      <td>3.775</td>\n",
       "      <td>3.749</td>\n",
       "      <td>0.190</td>\n",
       "    </tr>\n",
       "    <tr>\n",
       "      <th>1</th>\n",
       "      <td>3.932</td>\n",
       "      <td>3.835</td>\n",
       "      <td>3.896</td>\n",
       "      <td>3.854</td>\n",
       "      <td>0.097</td>\n",
       "    </tr>\n",
       "    <tr>\n",
       "      <th>2</th>\n",
       "      <td>4.051</td>\n",
       "      <td>3.931</td>\n",
       "      <td>3.987</td>\n",
       "      <td>3.943</td>\n",
       "      <td>0.120</td>\n",
       "    </tr>\n",
       "    <tr>\n",
       "      <th>3</th>\n",
       "      <td>4.146</td>\n",
       "      <td>4.012</td>\n",
       "      <td>4.064</td>\n",
       "      <td>4.021</td>\n",
       "      <td>0.134</td>\n",
       "    </tr>\n",
       "    <tr>\n",
       "      <th>4</th>\n",
       "      <td>4.218</td>\n",
       "      <td>4.084</td>\n",
       "      <td>4.129</td>\n",
       "      <td>4.091</td>\n",
       "      <td>0.134</td>\n",
       "    </tr>\n",
       "    <tr>\n",
       "      <th>5</th>\n",
       "      <td>4.277</td>\n",
       "      <td>4.147</td>\n",
       "      <td>4.187</td>\n",
       "      <td>4.153</td>\n",
       "      <td>0.130</td>\n",
       "    </tr>\n",
       "    <tr>\n",
       "      <th>6</th>\n",
       "      <td>4.322</td>\n",
       "      <td>4.204</td>\n",
       "      <td>4.240</td>\n",
       "      <td>4.209</td>\n",
       "      <td>0.118</td>\n",
       "    </tr>\n",
       "    <tr>\n",
       "      <th>7</th>\n",
       "      <td>4.362</td>\n",
       "      <td>4.256</td>\n",
       "      <td>4.287</td>\n",
       "      <td>4.259</td>\n",
       "      <td>0.106</td>\n",
       "    </tr>\n",
       "  </tbody>\n",
       "</table>\n",
       "</div>"
      ],
      "text/plain": [
       "    1_FM   2_AF  3_Zigzag  4_Stripy  delta_moment\n",
       "0  3.585  3.721     3.775     3.749         0.190\n",
       "1  3.932  3.835     3.896     3.854         0.097\n",
       "2  4.051  3.931     3.987     3.943         0.120\n",
       "3  4.146  4.012     4.064     4.021         0.134\n",
       "4  4.218  4.084     4.129     4.091         0.134\n",
       "5  4.277  4.147     4.187     4.153         0.130\n",
       "6  4.322  4.204     4.240     4.209         0.118\n",
       "7  4.362  4.256     4.287     4.259         0.106"
      ]
     },
     "execution_count": 40,
     "metadata": {},
     "output_type": "execute_result"
    }
   ],
   "source": [
    "CaMn2As2_moment = pd.read_csv('./CaMn2As2/CaMn2As2_moment.txt', sep='\\t', names=['1_FM', '2_AF', '3_Zigzag','4_Stripy'])\n",
    "f = lambda x: x.max() - x.min()\n",
    "delta = CaMn2As2_moment.apply(f, axis=1)\n",
    "delta_df = pd.DataFrame(delta)\n",
    "CaMn2As2_moment['delta_moment'] = delta_df[0]\n",
    "CaMn2As2_moment"
   ]
  },
  {
   "cell_type": "code",
   "execution_count": 41,
   "metadata": {
    "collapsed": false
   },
   "outputs": [
    {
     "data": {
      "text/html": [
       "<div>\n",
       "<table border=\"1\" class=\"dataframe\">\n",
       "  <thead>\n",
       "    <tr style=\"text-align: right;\">\n",
       "      <th></th>\n",
       "      <th>1_FM</th>\n",
       "      <th>2_AF</th>\n",
       "      <th>3_Zigzag</th>\n",
       "      <th>4_Stripy</th>\n",
       "      <th>delta_moment</th>\n",
       "    </tr>\n",
       "  </thead>\n",
       "  <tbody>\n",
       "    <tr>\n",
       "      <th>0</th>\n",
       "      <td>2.856</td>\n",
       "      <td>3.517</td>\n",
       "      <td>3.519</td>\n",
       "      <td>3.573</td>\n",
       "      <td>0.717</td>\n",
       "    </tr>\n",
       "    <tr>\n",
       "      <th>1</th>\n",
       "      <td>3.093</td>\n",
       "      <td>3.664</td>\n",
       "      <td>3.716</td>\n",
       "      <td>3.699</td>\n",
       "      <td>0.623</td>\n",
       "    </tr>\n",
       "    <tr>\n",
       "      <th>2</th>\n",
       "      <td>3.875</td>\n",
       "      <td>3.784</td>\n",
       "      <td>3.847</td>\n",
       "      <td>3.805</td>\n",
       "      <td>0.091</td>\n",
       "    </tr>\n",
       "    <tr>\n",
       "      <th>3</th>\n",
       "      <td>4.000</td>\n",
       "      <td>3.883</td>\n",
       "      <td>3.944</td>\n",
       "      <td>3.897</td>\n",
       "      <td>0.117</td>\n",
       "    </tr>\n",
       "    <tr>\n",
       "      <th>4</th>\n",
       "      <td>4.103</td>\n",
       "      <td>3.968</td>\n",
       "      <td>4.024</td>\n",
       "      <td>3.977</td>\n",
       "      <td>0.135</td>\n",
       "    </tr>\n",
       "    <tr>\n",
       "      <th>5</th>\n",
       "      <td>4.186</td>\n",
       "      <td>4.042</td>\n",
       "      <td>4.092</td>\n",
       "      <td>4.049</td>\n",
       "      <td>0.144</td>\n",
       "    </tr>\n",
       "    <tr>\n",
       "      <th>6</th>\n",
       "      <td>4.251</td>\n",
       "      <td>4.108</td>\n",
       "      <td>4.153</td>\n",
       "      <td>4.113</td>\n",
       "      <td>0.143</td>\n",
       "    </tr>\n",
       "    <tr>\n",
       "      <th>7</th>\n",
       "      <td>4.300</td>\n",
       "      <td>4.167</td>\n",
       "      <td>4.207</td>\n",
       "      <td>4.172</td>\n",
       "      <td>0.133</td>\n",
       "    </tr>\n",
       "  </tbody>\n",
       "</table>\n",
       "</div>"
      ],
      "text/plain": [
       "    1_FM   2_AF  3_Zigzag  4_Stripy  delta_moment\n",
       "0  2.856  3.517     3.519     3.573         0.717\n",
       "1  3.093  3.664     3.716     3.699         0.623\n",
       "2  3.875  3.784     3.847     3.805         0.091\n",
       "3  4.000  3.883     3.944     3.897         0.117\n",
       "4  4.103  3.968     4.024     3.977         0.135\n",
       "5  4.186  4.042     4.092     4.049         0.144\n",
       "6  4.251  4.108     4.153     4.113         0.143\n",
       "7  4.300  4.167     4.207     4.172         0.133"
      ]
     },
     "execution_count": 41,
     "metadata": {},
     "output_type": "execute_result"
    }
   ],
   "source": [
    "CaMn2P2_moment = pd.read_csv('./CaMn2P2/CaMn2P2_moment.txt', sep='\\t', names=['1_FM', '2_AF', '3_Zigzag','4_Stripy'])\n",
    "f = lambda x: x.max() - x.min()\n",
    "delta = CaMn2P2_moment.apply(f, axis=1)\n",
    "delta_df = pd.DataFrame(delta)\n",
    "CaMn2P2_moment['delta_moment'] = delta_df[0]\n",
    "CaMn2P2_moment"
   ]
  },
  {
   "cell_type": "code",
   "execution_count": 43,
   "metadata": {
    "collapsed": false
   },
   "outputs": [
    {
     "data": {
      "text/html": [
       "<div>\n",
       "<table border=\"1\" class=\"dataframe\">\n",
       "  <thead>\n",
       "    <tr style=\"text-align: right;\">\n",
       "      <th></th>\n",
       "      <th>1_FM</th>\n",
       "      <th>2_AF</th>\n",
       "      <th>3_Zigzag</th>\n",
       "      <th>4_Stripy</th>\n",
       "      <th>delta_moment</th>\n",
       "    </tr>\n",
       "  </thead>\n",
       "  <tbody>\n",
       "    <tr>\n",
       "      <th>0</th>\n",
       "      <td>2.151</td>\n",
       "      <td>2.339</td>\n",
       "      <td>2.425</td>\n",
       "      <td>2.472</td>\n",
       "      <td>0.321</td>\n",
       "    </tr>\n",
       "    <tr>\n",
       "      <th>1</th>\n",
       "      <td>2.317</td>\n",
       "      <td>2.520</td>\n",
       "      <td>2.624</td>\n",
       "      <td>2.624</td>\n",
       "      <td>0.307</td>\n",
       "    </tr>\n",
       "    <tr>\n",
       "      <th>2</th>\n",
       "      <td>2.766</td>\n",
       "      <td>2.678</td>\n",
       "      <td>2.778</td>\n",
       "      <td>2.751</td>\n",
       "      <td>0.100</td>\n",
       "    </tr>\n",
       "    <tr>\n",
       "      <th>3</th>\n",
       "      <td>2.926</td>\n",
       "      <td>2.833</td>\n",
       "      <td>2.903</td>\n",
       "      <td>2.860</td>\n",
       "      <td>0.093</td>\n",
       "    </tr>\n",
       "    <tr>\n",
       "      <th>4</th>\n",
       "      <td>3.041</td>\n",
       "      <td>2.960</td>\n",
       "      <td>3.002</td>\n",
       "      <td>2.953</td>\n",
       "      <td>0.088</td>\n",
       "    </tr>\n",
       "    <tr>\n",
       "      <th>5</th>\n",
       "      <td>3.140</td>\n",
       "      <td>3.051</td>\n",
       "      <td>3.081</td>\n",
       "      <td>3.032</td>\n",
       "      <td>0.108</td>\n",
       "    </tr>\n",
       "    <tr>\n",
       "      <th>6</th>\n",
       "      <td>3.217</td>\n",
       "      <td>3.127</td>\n",
       "      <td>3.149</td>\n",
       "      <td>3.100</td>\n",
       "      <td>0.117</td>\n",
       "    </tr>\n",
       "    <tr>\n",
       "      <th>7</th>\n",
       "      <td>3.232</td>\n",
       "      <td>3.198</td>\n",
       "      <td>3.208</td>\n",
       "      <td>3.165</td>\n",
       "      <td>0.067</td>\n",
       "    </tr>\n",
       "  </tbody>\n",
       "</table>\n",
       "</div>"
      ],
      "text/plain": [
       "    1_FM   2_AF  3_Zigzag  4_Stripy  delta_moment\n",
       "0  2.151  2.339     2.425     2.472         0.321\n",
       "1  2.317  2.520     2.624     2.624         0.307\n",
       "2  2.766  2.678     2.778     2.751         0.100\n",
       "3  2.926  2.833     2.903     2.860         0.093\n",
       "4  3.041  2.960     3.002     2.953         0.088\n",
       "5  3.140  3.051     3.081     3.032         0.108\n",
       "6  3.217  3.127     3.149     3.100         0.117\n",
       "7  3.232  3.198     3.208     3.165         0.067"
      ]
     },
     "execution_count": 43,
     "metadata": {},
     "output_type": "execute_result"
    }
   ],
   "source": [
    "CaFe2As2_moment = pd.read_csv('./CaFe2As2/CaFe2As2_moment.txt', sep='\\t', names=['1_FM', '2_AF', '3_Zigzag','4_Stripy'])\n",
    "f = lambda x: x.max() - x.min()\n",
    "delta = CaFe2As2_moment.apply(f, axis=1)\n",
    "delta_df = pd.DataFrame(delta)\n",
    "CaFe2As2_moment['delta_moment'] = delta_df[0]\n",
    "CaFe2As2_moment"
   ]
  },
  {
   "cell_type": "code",
   "execution_count": 44,
   "metadata": {
    "collapsed": false
   },
   "outputs": [
    {
     "data": {
      "text/html": [
       "<div>\n",
       "<table border=\"1\" class=\"dataframe\">\n",
       "  <thead>\n",
       "    <tr style=\"text-align: right;\">\n",
       "      <th></th>\n",
       "      <th>1_FM</th>\n",
       "      <th>2_AF</th>\n",
       "      <th>3_Zigzag</th>\n",
       "      <th>4_Stripy</th>\n",
       "      <th>delta_moment</th>\n",
       "    </tr>\n",
       "  </thead>\n",
       "  <tbody>\n",
       "    <tr>\n",
       "      <th>0</th>\n",
       "      <td>1.429</td>\n",
       "      <td>1.695</td>\n",
       "      <td>1.587</td>\n",
       "      <td>1.817</td>\n",
       "      <td>0.388</td>\n",
       "    </tr>\n",
       "    <tr>\n",
       "      <th>1</th>\n",
       "      <td>1.706</td>\n",
       "      <td>1.949</td>\n",
       "      <td>1.958</td>\n",
       "      <td>2.143</td>\n",
       "      <td>0.437</td>\n",
       "    </tr>\n",
       "    <tr>\n",
       "      <th>2</th>\n",
       "      <td>1.957</td>\n",
       "      <td>2.168</td>\n",
       "      <td>2.246</td>\n",
       "      <td>2.334</td>\n",
       "      <td>0.377</td>\n",
       "    </tr>\n",
       "    <tr>\n",
       "      <th>3</th>\n",
       "      <td>2.200</td>\n",
       "      <td>2.364</td>\n",
       "      <td>2.469</td>\n",
       "      <td>2.488</td>\n",
       "      <td>0.288</td>\n",
       "    </tr>\n",
       "    <tr>\n",
       "      <th>4</th>\n",
       "      <td>2.309</td>\n",
       "      <td>2.546</td>\n",
       "      <td>2.640</td>\n",
       "      <td>2.621</td>\n",
       "      <td>0.331</td>\n",
       "    </tr>\n",
       "    <tr>\n",
       "      <th>5</th>\n",
       "      <td>2.423</td>\n",
       "      <td>2.715</td>\n",
       "      <td>2.777</td>\n",
       "      <td>2.738</td>\n",
       "      <td>0.354</td>\n",
       "    </tr>\n",
       "    <tr>\n",
       "      <th>6</th>\n",
       "      <td>2.915</td>\n",
       "      <td>2.833</td>\n",
       "      <td>2.891</td>\n",
       "      <td>2.840</td>\n",
       "      <td>0.082</td>\n",
       "    </tr>\n",
       "    <tr>\n",
       "      <th>7</th>\n",
       "      <td>3.024</td>\n",
       "      <td>2.870</td>\n",
       "      <td>2.986</td>\n",
       "      <td>2.929</td>\n",
       "      <td>0.154</td>\n",
       "    </tr>\n",
       "  </tbody>\n",
       "</table>\n",
       "</div>"
      ],
      "text/plain": [
       "    1_FM   2_AF  3_Zigzag  4_Stripy  delta_moment\n",
       "0  1.429  1.695     1.587     1.817         0.388\n",
       "1  1.706  1.949     1.958     2.143         0.437\n",
       "2  1.957  2.168     2.246     2.334         0.377\n",
       "3  2.200  2.364     2.469     2.488         0.288\n",
       "4  2.309  2.546     2.640     2.621         0.331\n",
       "5  2.423  2.715     2.777     2.738         0.354\n",
       "6  2.915  2.833     2.891     2.840         0.082\n",
       "7  3.024  2.870     2.986     2.929         0.154"
      ]
     },
     "execution_count": 44,
     "metadata": {},
     "output_type": "execute_result"
    }
   ],
   "source": [
    "CaFe2P2_moment = pd.read_csv('./CaFe2P2/CaFe2P2_moment.txt', sep='\\t', names=['1_FM', '2_AF', '3_Zigzag','4_Stripy'])\n",
    "f = lambda x: x.max() - x.min()\n",
    "delta = CaFe2P2_moment.apply(f, axis=1)\n",
    "delta_df = pd.DataFrame(delta)\n",
    "CaFe2P2_moment['delta_moment'] = delta_df[0]\n",
    "CaFe2P2_moment"
   ]
  },
  {
   "cell_type": "markdown",
   "metadata": {},
   "source": [
    "## energy"
   ]
  },
  {
   "cell_type": "code",
   "execution_count": 13,
   "metadata": {
    "collapsed": false
   },
   "outputs": [
    {
     "data": {
      "text/html": [
       "<div>\n",
       "<table border=\"1\" class=\"dataframe\">\n",
       "  <thead>\n",
       "    <tr style=\"text-align: right;\">\n",
       "      <th></th>\n",
       "      <th>1_FM</th>\n",
       "      <th>2_AF</th>\n",
       "      <th>3_Zigzag</th>\n",
       "      <th>4_Stripy</th>\n",
       "    </tr>\n",
       "  </thead>\n",
       "  <tbody>\n",
       "    <tr>\n",
       "      <th>0</th>\n",
       "      <td>-64.0493</td>\n",
       "      <td>-64.7642</td>\n",
       "      <td>-63.9330</td>\n",
       "      <td>-64.3184</td>\n",
       "    </tr>\n",
       "    <tr>\n",
       "      <th>1</th>\n",
       "      <td>-62.8570</td>\n",
       "      <td>-63.3711</td>\n",
       "      <td>-62.5885</td>\n",
       "      <td>-62.9043</td>\n",
       "    </tr>\n",
       "    <tr>\n",
       "      <th>2</th>\n",
       "      <td>-61.7470</td>\n",
       "      <td>-62.0650</td>\n",
       "      <td>-61.3282</td>\n",
       "      <td>-61.5890</td>\n",
       "    </tr>\n",
       "    <tr>\n",
       "      <th>3</th>\n",
       "      <td>-60.6807</td>\n",
       "      <td>-60.8353</td>\n",
       "      <td>-60.1397</td>\n",
       "      <td>-60.3586</td>\n",
       "    </tr>\n",
       "    <tr>\n",
       "      <th>4</th>\n",
       "      <td>-59.6514</td>\n",
       "      <td>-59.6732</td>\n",
       "      <td>-59.0142</td>\n",
       "      <td>-59.2001</td>\n",
       "    </tr>\n",
       "    <tr>\n",
       "      <th>5</th>\n",
       "      <td>-58.6580</td>\n",
       "      <td>-58.5720</td>\n",
       "      <td>-57.9453</td>\n",
       "      <td>-58.1048</td>\n",
       "    </tr>\n",
       "    <tr>\n",
       "      <th>6</th>\n",
       "      <td>-57.6997</td>\n",
       "      <td>-57.5263</td>\n",
       "      <td>-56.9278</td>\n",
       "      <td>-57.0660</td>\n",
       "    </tr>\n",
       "    <tr>\n",
       "      <th>7</th>\n",
       "      <td>-56.7756</td>\n",
       "      <td>-56.5315</td>\n",
       "      <td>-55.9577</td>\n",
       "      <td>-56.0788</td>\n",
       "    </tr>\n",
       "  </tbody>\n",
       "</table>\n",
       "</div>"
      ],
      "text/plain": [
       "      1_FM     2_AF  3_Zigzag  4_Stripy\n",
       "0 -64.0493 -64.7642  -63.9330  -64.3184\n",
       "1 -62.8570 -63.3711  -62.5885  -62.9043\n",
       "2 -61.7470 -62.0650  -61.3282  -61.5890\n",
       "3 -60.6807 -60.8353  -60.1397  -60.3586\n",
       "4 -59.6514 -59.6732  -59.0142  -59.2001\n",
       "5 -58.6580 -58.5720  -57.9453  -58.1048\n",
       "6 -57.6997 -57.5263  -56.9278  -57.0660\n",
       "7 -56.7756 -56.5315  -55.9577  -56.0788"
      ]
     },
     "execution_count": 13,
     "metadata": {},
     "output_type": "execute_result"
    }
   ],
   "source": [
    "CaCr2As2_energy = pd.read_csv('./CaCr2As2/CaCr2As2_energy.txt', sep='\\s+', names=['1_FM', '2_AF', '3_Zigzag','4_Stripy'])\n",
    "CaCr2As2_energy"
   ]
  },
  {
   "cell_type": "code",
   "execution_count": 45,
   "metadata": {
    "collapsed": false
   },
   "outputs": [
    {
     "data": {
      "text/html": [
       "<div>\n",
       "<table border=\"1\" class=\"dataframe\">\n",
       "  <thead>\n",
       "    <tr style=\"text-align: right;\">\n",
       "      <th></th>\n",
       "      <th>1_FM</th>\n",
       "      <th>2_AF</th>\n",
       "      <th>3_Zigzag</th>\n",
       "      <th>4_Stripy</th>\n",
       "    </tr>\n",
       "  </thead>\n",
       "  <tbody>\n",
       "    <tr>\n",
       "      <th>0</th>\n",
       "      <td>-68.2229</td>\n",
       "      <td>-69.2086</td>\n",
       "      <td>-68.3657</td>\n",
       "      <td>-68.9455</td>\n",
       "    </tr>\n",
       "    <tr>\n",
       "      <th>1</th>\n",
       "      <td>-66.8968</td>\n",
       "      <td>-67.6472</td>\n",
       "      <td>-66.8211</td>\n",
       "      <td>-67.3171</td>\n",
       "    </tr>\n",
       "    <tr>\n",
       "      <th>2</th>\n",
       "      <td>-65.5542</td>\n",
       "      <td>-66.1860</td>\n",
       "      <td>-65.4024</td>\n",
       "      <td>-65.8121</td>\n",
       "    </tr>\n",
       "    <tr>\n",
       "      <th>3</th>\n",
       "      <td>-64.3504</td>\n",
       "      <td>-64.8111</td>\n",
       "      <td>-64.0718</td>\n",
       "      <td>-64.4082</td>\n",
       "    </tr>\n",
       "    <tr>\n",
       "      <th>4</th>\n",
       "      <td>-63.2308</td>\n",
       "      <td>-63.5126</td>\n",
       "      <td>-62.8157</td>\n",
       "      <td>-63.0906</td>\n",
       "    </tr>\n",
       "    <tr>\n",
       "      <th>5</th>\n",
       "      <td>-62.1599</td>\n",
       "      <td>-62.2834</td>\n",
       "      <td>-61.6250</td>\n",
       "      <td>-61.8520</td>\n",
       "    </tr>\n",
       "    <tr>\n",
       "      <th>6</th>\n",
       "      <td>-61.1294</td>\n",
       "      <td>-61.1176</td>\n",
       "      <td>-60.4933</td>\n",
       "      <td>-60.6814</td>\n",
       "    </tr>\n",
       "    <tr>\n",
       "      <th>7</th>\n",
       "      <td>-60.1346</td>\n",
       "      <td>-60.0097</td>\n",
       "      <td>-59.4155</td>\n",
       "      <td>-59.5712</td>\n",
       "    </tr>\n",
       "  </tbody>\n",
       "</table>\n",
       "</div>"
      ],
      "text/plain": [
       "      1_FM     2_AF  3_Zigzag  4_Stripy\n",
       "0 -68.2229 -69.2086  -68.3657  -68.9455\n",
       "1 -66.8968 -67.6472  -66.8211  -67.3171\n",
       "2 -65.5542 -66.1860  -65.4024  -65.8121\n",
       "3 -64.3504 -64.8111  -64.0718  -64.4082\n",
       "4 -63.2308 -63.5126  -62.8157  -63.0906\n",
       "5 -62.1599 -62.2834  -61.6250  -61.8520\n",
       "6 -61.1294 -61.1176  -60.4933  -60.6814\n",
       "7 -60.1346 -60.0097  -59.4155  -59.5712"
      ]
     },
     "execution_count": 45,
     "metadata": {},
     "output_type": "execute_result"
    }
   ],
   "source": [
    "CaCr2P2_energy = pd.read_csv('./CaCr2P2/CaCr2P2_energy.txt', sep='\\s+', names=['1_FM', '2_AF', '3_Zigzag','4_Stripy'])\n",
    "CaCr2P2_energy"
   ]
  },
  {
   "cell_type": "code",
   "execution_count": 14,
   "metadata": {
    "collapsed": false
   },
   "outputs": [
    {
     "data": {
      "text/html": [
       "<div>\n",
       "<table border=\"1\" class=\"dataframe\">\n",
       "  <thead>\n",
       "    <tr style=\"text-align: right;\">\n",
       "      <th></th>\n",
       "      <th>1_FM</th>\n",
       "      <th>2_AF</th>\n",
       "      <th>3_Zigzag</th>\n",
       "      <th>4_Stripy</th>\n",
       "    </tr>\n",
       "  </thead>\n",
       "  <tbody>\n",
       "    <tr>\n",
       "      <th>0</th>\n",
       "      <td>-62.7845</td>\n",
       "      <td>-64.4613</td>\n",
       "      <td>-63.8026</td>\n",
       "      <td>-64.2783</td>\n",
       "    </tr>\n",
       "    <tr>\n",
       "      <th>1</th>\n",
       "      <td>-61.7842</td>\n",
       "      <td>-63.3978</td>\n",
       "      <td>-62.7815</td>\n",
       "      <td>-63.2314</td>\n",
       "    </tr>\n",
       "    <tr>\n",
       "      <th>2</th>\n",
       "      <td>-60.8882</td>\n",
       "      <td>-62.4132</td>\n",
       "      <td>-61.8421</td>\n",
       "      <td>-62.2582</td>\n",
       "    </tr>\n",
       "    <tr>\n",
       "      <th>3</th>\n",
       "      <td>-60.0734</td>\n",
       "      <td>-61.4972</td>\n",
       "      <td>-60.9687</td>\n",
       "      <td>-61.3503</td>\n",
       "    </tr>\n",
       "    <tr>\n",
       "      <th>4</th>\n",
       "      <td>-59.3262</td>\n",
       "      <td>-60.6418</td>\n",
       "      <td>-60.1523</td>\n",
       "      <td>-60.5008</td>\n",
       "    </tr>\n",
       "    <tr>\n",
       "      <th>5</th>\n",
       "      <td>-58.6321</td>\n",
       "      <td>-59.8408</td>\n",
       "      <td>-59.3864</td>\n",
       "      <td>-59.7043</td>\n",
       "    </tr>\n",
       "    <tr>\n",
       "      <th>6</th>\n",
       "      <td>-57.9821</td>\n",
       "      <td>-59.0890</td>\n",
       "      <td>-58.6662</td>\n",
       "      <td>-58.9563</td>\n",
       "    </tr>\n",
       "    <tr>\n",
       "      <th>7</th>\n",
       "      <td>-57.3686</td>\n",
       "      <td>-58.3823</td>\n",
       "      <td>-57.9877</td>\n",
       "      <td>-58.2527</td>\n",
       "    </tr>\n",
       "  </tbody>\n",
       "</table>\n",
       "</div>"
      ],
      "text/plain": [
       "      1_FM     2_AF  3_Zigzag  4_Stripy\n",
       "0 -62.7845 -64.4613  -63.8026  -64.2783\n",
       "1 -61.7842 -63.3978  -62.7815  -63.2314\n",
       "2 -60.8882 -62.4132  -61.8421  -62.2582\n",
       "3 -60.0734 -61.4972  -60.9687  -61.3503\n",
       "4 -59.3262 -60.6418  -60.1523  -60.5008\n",
       "5 -58.6321 -59.8408  -59.3864  -59.7043\n",
       "6 -57.9821 -59.0890  -58.6662  -58.9563\n",
       "7 -57.3686 -58.3823  -57.9877  -58.2527"
      ]
     },
     "execution_count": 14,
     "metadata": {},
     "output_type": "execute_result"
    }
   ],
   "source": [
    "CaMn2As2_energy = pd.read_csv('./CaMn2As2/CaMn2As2_energy.txt', sep='\\s+', names=['1_FM', '2_AF', '3_Zigzag','4_Stripy'])\n",
    "CaMn2As2_energy"
   ]
  },
  {
   "cell_type": "code",
   "execution_count": 46,
   "metadata": {
    "collapsed": false
   },
   "outputs": [
    {
     "data": {
      "text/html": [
       "<div>\n",
       "<table border=\"1\" class=\"dataframe\">\n",
       "  <thead>\n",
       "    <tr style=\"text-align: right;\">\n",
       "      <th></th>\n",
       "      <th>1_FM</th>\n",
       "      <th>2_AF</th>\n",
       "      <th>3_Zigzag</th>\n",
       "      <th>4_Stripy</th>\n",
       "    </tr>\n",
       "  </thead>\n",
       "  <tbody>\n",
       "    <tr>\n",
       "      <th>0</th>\n",
       "      <td>-62.7845</td>\n",
       "      <td>-64.4613</td>\n",
       "      <td>-63.8026</td>\n",
       "      <td>-64.2783</td>\n",
       "    </tr>\n",
       "    <tr>\n",
       "      <th>1</th>\n",
       "      <td>-61.7842</td>\n",
       "      <td>-63.3978</td>\n",
       "      <td>-62.7815</td>\n",
       "      <td>-63.2314</td>\n",
       "    </tr>\n",
       "    <tr>\n",
       "      <th>2</th>\n",
       "      <td>-60.8882</td>\n",
       "      <td>-62.4132</td>\n",
       "      <td>-61.8421</td>\n",
       "      <td>-62.2582</td>\n",
       "    </tr>\n",
       "    <tr>\n",
       "      <th>3</th>\n",
       "      <td>-60.0734</td>\n",
       "      <td>-61.4972</td>\n",
       "      <td>-60.9687</td>\n",
       "      <td>-61.3503</td>\n",
       "    </tr>\n",
       "    <tr>\n",
       "      <th>4</th>\n",
       "      <td>-59.3262</td>\n",
       "      <td>-60.6418</td>\n",
       "      <td>-60.1523</td>\n",
       "      <td>-60.5008</td>\n",
       "    </tr>\n",
       "    <tr>\n",
       "      <th>5</th>\n",
       "      <td>-58.6321</td>\n",
       "      <td>-59.8408</td>\n",
       "      <td>-59.3864</td>\n",
       "      <td>-59.7043</td>\n",
       "    </tr>\n",
       "    <tr>\n",
       "      <th>6</th>\n",
       "      <td>-57.9821</td>\n",
       "      <td>-59.0890</td>\n",
       "      <td>-58.6662</td>\n",
       "      <td>-58.9563</td>\n",
       "    </tr>\n",
       "    <tr>\n",
       "      <th>7</th>\n",
       "      <td>-57.3686</td>\n",
       "      <td>-58.3823</td>\n",
       "      <td>-57.9877</td>\n",
       "      <td>-58.2527</td>\n",
       "    </tr>\n",
       "  </tbody>\n",
       "</table>\n",
       "</div>"
      ],
      "text/plain": [
       "      1_FM     2_AF  3_Zigzag  4_Stripy\n",
       "0 -62.7845 -64.4613  -63.8026  -64.2783\n",
       "1 -61.7842 -63.3978  -62.7815  -63.2314\n",
       "2 -60.8882 -62.4132  -61.8421  -62.2582\n",
       "3 -60.0734 -61.4972  -60.9687  -61.3503\n",
       "4 -59.3262 -60.6418  -60.1523  -60.5008\n",
       "5 -58.6321 -59.8408  -59.3864  -59.7043\n",
       "6 -57.9821 -59.0890  -58.6662  -58.9563\n",
       "7 -57.3686 -58.3823  -57.9877  -58.2527"
      ]
     },
     "execution_count": 46,
     "metadata": {},
     "output_type": "execute_result"
    }
   ],
   "source": [
    "CaMn2P2_energy = pd.read_csv('./CaMn2As2/CaMn2As2_energy.txt', sep='\\s+', names=['1_FM', '2_AF', '3_Zigzag','4_Stripy'])\n",
    "CaMn2P2_energy"
   ]
  },
  {
   "cell_type": "code",
   "execution_count": 15,
   "metadata": {
    "collapsed": false
   },
   "outputs": [
    {
     "data": {
      "text/html": [
       "<div>\n",
       "<table border=\"1\" class=\"dataframe\">\n",
       "  <thead>\n",
       "    <tr style=\"text-align: right;\">\n",
       "      <th></th>\n",
       "      <th>1_FM</th>\n",
       "      <th>2_AF</th>\n",
       "      <th>3_Zigzag</th>\n",
       "      <th>4_Stripy</th>\n",
       "    </tr>\n",
       "  </thead>\n",
       "  <tbody>\n",
       "    <tr>\n",
       "      <th>0</th>\n",
       "      <td>-59.8085</td>\n",
       "      <td>-60.1292</td>\n",
       "      <td>-60.1624</td>\n",
       "      <td>-60.3281</td>\n",
       "    </tr>\n",
       "    <tr>\n",
       "      <th>1</th>\n",
       "      <td>-58.0384</td>\n",
       "      <td>-58.3863</td>\n",
       "      <td>-58.5199</td>\n",
       "      <td>-58.6861</td>\n",
       "    </tr>\n",
       "    <tr>\n",
       "      <th>2</th>\n",
       "      <td>-56.3829</td>\n",
       "      <td>-56.7303</td>\n",
       "      <td>-56.9947</td>\n",
       "      <td>-57.1270</td>\n",
       "    </tr>\n",
       "    <tr>\n",
       "      <th>3</th>\n",
       "      <td>-54.9131</td>\n",
       "      <td>-55.1743</td>\n",
       "      <td>-55.5801</td>\n",
       "      <td>-55.6467</td>\n",
       "    </tr>\n",
       "    <tr>\n",
       "      <th>4</th>\n",
       "      <td>-53.5388</td>\n",
       "      <td>-53.7419</td>\n",
       "      <td>-54.2628</td>\n",
       "      <td>-54.2418</td>\n",
       "    </tr>\n",
       "    <tr>\n",
       "      <th>5</th>\n",
       "      <td>-52.2510</td>\n",
       "      <td>-52.4246</td>\n",
       "      <td>-53.0268</td>\n",
       "      <td>-52.9105</td>\n",
       "    </tr>\n",
       "    <tr>\n",
       "      <th>6</th>\n",
       "      <td>-51.0780</td>\n",
       "      <td>-51.2235</td>\n",
       "      <td>-51.8623</td>\n",
       "      <td>-51.6499</td>\n",
       "    </tr>\n",
       "    <tr>\n",
       "      <th>7</th>\n",
       "      <td>-50.0518</td>\n",
       "      <td>-50.0960</td>\n",
       "      <td>-50.7639</td>\n",
       "      <td>-50.4549</td>\n",
       "    </tr>\n",
       "  </tbody>\n",
       "</table>\n",
       "</div>"
      ],
      "text/plain": [
       "      1_FM     2_AF  3_Zigzag  4_Stripy\n",
       "0 -59.8085 -60.1292  -60.1624  -60.3281\n",
       "1 -58.0384 -58.3863  -58.5199  -58.6861\n",
       "2 -56.3829 -56.7303  -56.9947  -57.1270\n",
       "3 -54.9131 -55.1743  -55.5801  -55.6467\n",
       "4 -53.5388 -53.7419  -54.2628  -54.2418\n",
       "5 -52.2510 -52.4246  -53.0268  -52.9105\n",
       "6 -51.0780 -51.2235  -51.8623  -51.6499\n",
       "7 -50.0518 -50.0960  -50.7639  -50.4549"
      ]
     },
     "execution_count": 15,
     "metadata": {},
     "output_type": "execute_result"
    }
   ],
   "source": [
    "CaFe2As2_energy = pd.read_csv('./CaFe2As2/CaFe2As2_energy.txt', sep='\\s+', names=['1_FM', '2_AF', '3_Zigzag','4_Stripy'])\n",
    "CaFe2As2_energy"
   ]
  },
  {
   "cell_type": "code",
   "execution_count": 47,
   "metadata": {
    "collapsed": false
   },
   "outputs": [
    {
     "data": {
      "text/html": [
       "<div>\n",
       "<table border=\"1\" class=\"dataframe\">\n",
       "  <thead>\n",
       "    <tr style=\"text-align: right;\">\n",
       "      <th></th>\n",
       "      <th>1_FM</th>\n",
       "      <th>2_AF</th>\n",
       "      <th>3_Zigzag</th>\n",
       "      <th>4_Stripy</th>\n",
       "    </tr>\n",
       "  </thead>\n",
       "  <tbody>\n",
       "    <tr>\n",
       "      <th>0</th>\n",
       "      <td>-65.3955</td>\n",
       "      <td>-65.5861</td>\n",
       "      <td>-65.5516</td>\n",
       "      <td>-65.5526</td>\n",
       "    </tr>\n",
       "    <tr>\n",
       "      <th>1</th>\n",
       "      <td>-63.3810</td>\n",
       "      <td>-63.6164</td>\n",
       "      <td>-63.5908</td>\n",
       "      <td>-63.6697</td>\n",
       "    </tr>\n",
       "    <tr>\n",
       "      <th>2</th>\n",
       "      <td>-61.4650</td>\n",
       "      <td>-61.7355</td>\n",
       "      <td>-61.7672</td>\n",
       "      <td>-61.9001</td>\n",
       "    </tr>\n",
       "    <tr>\n",
       "      <th>3</th>\n",
       "      <td>-59.6554</td>\n",
       "      <td>-59.9479</td>\n",
       "      <td>-60.0740</td>\n",
       "      <td>-60.2170</td>\n",
       "    </tr>\n",
       "    <tr>\n",
       "      <th>4</th>\n",
       "      <td>-57.9434</td>\n",
       "      <td>-58.2534</td>\n",
       "      <td>-58.5019</td>\n",
       "      <td>-58.6135</td>\n",
       "    </tr>\n",
       "    <tr>\n",
       "      <th>5</th>\n",
       "      <td>-56.2916</td>\n",
       "      <td>-56.6611</td>\n",
       "      <td>-57.0358</td>\n",
       "      <td>-57.0879</td>\n",
       "    </tr>\n",
       "    <tr>\n",
       "      <th>6</th>\n",
       "      <td>-54.7394</td>\n",
       "      <td>-55.2226</td>\n",
       "      <td>-55.6665</td>\n",
       "      <td>-55.6408</td>\n",
       "    </tr>\n",
       "    <tr>\n",
       "      <th>7</th>\n",
       "      <td>-53.3860</td>\n",
       "      <td>-54.1138</td>\n",
       "      <td>-54.3852</td>\n",
       "      <td>-54.2658</td>\n",
       "    </tr>\n",
       "  </tbody>\n",
       "</table>\n",
       "</div>"
      ],
      "text/plain": [
       "      1_FM     2_AF  3_Zigzag  4_Stripy\n",
       "0 -65.3955 -65.5861  -65.5516  -65.5526\n",
       "1 -63.3810 -63.6164  -63.5908  -63.6697\n",
       "2 -61.4650 -61.7355  -61.7672  -61.9001\n",
       "3 -59.6554 -59.9479  -60.0740  -60.2170\n",
       "4 -57.9434 -58.2534  -58.5019  -58.6135\n",
       "5 -56.2916 -56.6611  -57.0358  -57.0879\n",
       "6 -54.7394 -55.2226  -55.6665  -55.6408\n",
       "7 -53.3860 -54.1138  -54.3852  -54.2658"
      ]
     },
     "execution_count": 47,
     "metadata": {},
     "output_type": "execute_result"
    }
   ],
   "source": [
    "CaFe2P2_energy = pd.read_csv('./CaFe2P2/CaFe2P2_energy.txt', sep='\\s+', names=['1_FM', '2_AF', '3_Zigzag','4_Stripy'])\n",
    "CaFe2P2_energy"
   ]
  },
  {
   "cell_type": "markdown",
   "metadata": {},
   "source": [
    "## Gap"
   ]
  },
  {
   "cell_type": "code",
   "execution_count": 45,
   "metadata": {
    "collapsed": false
   },
   "outputs": [],
   "source": [
    "e_SrMn2As2_gap = pd.read_csv('./gap_SrMn2As2/all_gap.txt', sep='\\s+', names=['gap'])\n",
    "#e_SrMn2As2_gap"
   ]
  },
  {
   "cell_type": "code",
   "execution_count": 46,
   "metadata": {
    "collapsed": false
   },
   "outputs": [],
   "source": [
    "e_CaMn2Sb2_gap = pd.read_csv('./gap_CaMn2Sb2/all_gap.txt', sep='\\s+', names=['gap'])\n",
    "#e_CaMn2Sb2_gap"
   ]
  },
  {
   "cell_type": "markdown",
   "metadata": {},
   "source": [
    "## energy gate"
   ]
  },
  {
   "cell_type": "code",
   "execution_count": 16,
   "metadata": {
    "collapsed": false
   },
   "outputs": [
    {
     "data": {
      "text/html": [
       "<div>\n",
       "<table border=\"1\" class=\"dataframe\">\n",
       "  <thead>\n",
       "    <tr style=\"text-align: right;\">\n",
       "      <th></th>\n",
       "      <th>1_FM</th>\n",
       "      <th>2_AF</th>\n",
       "      <th>3_Zigzag</th>\n",
       "      <th>4_Stripy</th>\n",
       "    </tr>\n",
       "  </thead>\n",
       "  <tbody>\n",
       "    <tr>\n",
       "      <th>0</th>\n",
       "      <td>146.7</td>\n",
       "      <td>-568.3</td>\n",
       "      <td>263.0</td>\n",
       "      <td>-122.5</td>\n",
       "    </tr>\n",
       "    <tr>\n",
       "      <th>1</th>\n",
       "      <td>-18.6</td>\n",
       "      <td>-532.8</td>\n",
       "      <td>249.8</td>\n",
       "      <td>-66.0</td>\n",
       "    </tr>\n",
       "    <tr>\n",
       "      <th>2</th>\n",
       "      <td>-176.5</td>\n",
       "      <td>-494.5</td>\n",
       "      <td>242.3</td>\n",
       "      <td>-18.6</td>\n",
       "    </tr>\n",
       "    <tr>\n",
       "      <th>3</th>\n",
       "      <td>-304.3</td>\n",
       "      <td>-459.0</td>\n",
       "      <td>236.7</td>\n",
       "      <td>17.8</td>\n",
       "    </tr>\n",
       "    <tr>\n",
       "      <th>4</th>\n",
       "      <td>-405.4</td>\n",
       "      <td>-427.3</td>\n",
       "      <td>231.7</td>\n",
       "      <td>45.9</td>\n",
       "    </tr>\n",
       "    <tr>\n",
       "      <th>5</th>\n",
       "      <td>-485.5</td>\n",
       "      <td>-399.5</td>\n",
       "      <td>227.2</td>\n",
       "      <td>67.8</td>\n",
       "    </tr>\n",
       "    <tr>\n",
       "      <th>6</th>\n",
       "      <td>-548.8</td>\n",
       "      <td>-375.4</td>\n",
       "      <td>223.2</td>\n",
       "      <td>84.9</td>\n",
       "    </tr>\n",
       "    <tr>\n",
       "      <th>7</th>\n",
       "      <td>-598.5</td>\n",
       "      <td>-354.4</td>\n",
       "      <td>219.4</td>\n",
       "      <td>98.3</td>\n",
       "    </tr>\n",
       "  </tbody>\n",
       "</table>\n",
       "</div>"
      ],
      "text/plain": [
       "    1_FM   2_AF  3_Zigzag  4_Stripy\n",
       "0  146.7 -568.3     263.0    -122.5\n",
       "1  -18.6 -532.8     249.8     -66.0\n",
       "2 -176.5 -494.5     242.3     -18.6\n",
       "3 -304.3 -459.0     236.7      17.8\n",
       "4 -405.4 -427.3     231.7      45.9\n",
       "5 -485.5 -399.5     227.2      67.8\n",
       "6 -548.8 -375.4     223.2      84.9\n",
       "7 -598.5 -354.4     219.4      98.3"
      ]
     },
     "execution_count": 16,
     "metadata": {},
     "output_type": "execute_result"
    }
   ],
   "source": [
    "CaCr2As2_energy_gate = pd.read_csv('./CaCr2As2/CaCr2As2_energy_gate.txt', sep='\\s+', names=['1_FM', '2_AF', '3_Zigzag','4_Stripy'])\n",
    "CaCr2As2_energy_gate"
   ]
  },
  {
   "cell_type": "code",
   "execution_count": 48,
   "metadata": {
    "collapsed": false
   },
   "outputs": [
    {
     "data": {
      "text/html": [
       "<div>\n",
       "<table border=\"1\" class=\"dataframe\">\n",
       "  <thead>\n",
       "    <tr style=\"text-align: right;\">\n",
       "      <th></th>\n",
       "      <th>1_FM</th>\n",
       "      <th>2_AF</th>\n",
       "      <th>3_Zigzag</th>\n",
       "      <th>4_Stripy</th>\n",
       "    </tr>\n",
       "  </thead>\n",
       "  <tbody>\n",
       "    <tr>\n",
       "      <th>0</th>\n",
       "      <td>447.7</td>\n",
       "      <td>-537.9</td>\n",
       "      <td>304.9</td>\n",
       "      <td>-274.9</td>\n",
       "    </tr>\n",
       "    <tr>\n",
       "      <th>1</th>\n",
       "      <td>223.0</td>\n",
       "      <td>-527.4</td>\n",
       "      <td>298.7</td>\n",
       "      <td>-197.3</td>\n",
       "    </tr>\n",
       "    <tr>\n",
       "      <th>2</th>\n",
       "      <td>118.8</td>\n",
       "      <td>-513.0</td>\n",
       "      <td>270.6</td>\n",
       "      <td>-139.2</td>\n",
       "    </tr>\n",
       "    <tr>\n",
       "      <th>3</th>\n",
       "      <td>-25.2</td>\n",
       "      <td>-485.9</td>\n",
       "      <td>253.3</td>\n",
       "      <td>-83.0</td>\n",
       "    </tr>\n",
       "    <tr>\n",
       "      <th>4</th>\n",
       "      <td>-173.0</td>\n",
       "      <td>-454.8</td>\n",
       "      <td>242.1</td>\n",
       "      <td>-32.8</td>\n",
       "    </tr>\n",
       "    <tr>\n",
       "      <th>5</th>\n",
       "      <td>-300.7</td>\n",
       "      <td>-424.1</td>\n",
       "      <td>234.3</td>\n",
       "      <td>7.3</td>\n",
       "    </tr>\n",
       "    <tr>\n",
       "      <th>6</th>\n",
       "      <td>-408.0</td>\n",
       "      <td>-396.2</td>\n",
       "      <td>228.1</td>\n",
       "      <td>40.0</td>\n",
       "    </tr>\n",
       "    <tr>\n",
       "      <th>7</th>\n",
       "      <td>-496.5</td>\n",
       "      <td>-371.6</td>\n",
       "      <td>222.5</td>\n",
       "      <td>66.9</td>\n",
       "    </tr>\n",
       "  </tbody>\n",
       "</table>\n",
       "</div>"
      ],
      "text/plain": [
       "    1_FM   2_AF  3_Zigzag  4_Stripy\n",
       "0  447.7 -537.9     304.9    -274.9\n",
       "1  223.0 -527.4     298.7    -197.3\n",
       "2  118.8 -513.0     270.6    -139.2\n",
       "3  -25.2 -485.9     253.3     -83.0\n",
       "4 -173.0 -454.8     242.1     -32.8\n",
       "5 -300.7 -424.1     234.3       7.3\n",
       "6 -408.0 -396.2     228.1      40.0\n",
       "7 -496.5 -371.6     222.5      66.9"
      ]
     },
     "execution_count": 48,
     "metadata": {},
     "output_type": "execute_result"
    }
   ],
   "source": [
    "CaCr2P2_energy_gate = pd.read_csv('./CaCr2P2/CaCr2P2_energy_gate.txt', sep='\\s+', names=['1_FM', '2_AF', '3_Zigzag','4_Stripy'])\n",
    "CaCr2P2_energy_gate"
   ]
  },
  {
   "cell_type": "code",
   "execution_count": 17,
   "metadata": {
    "collapsed": false
   },
   "outputs": [
    {
     "data": {
      "text/html": [
       "<div>\n",
       "<table border=\"1\" class=\"dataframe\">\n",
       "  <thead>\n",
       "    <tr style=\"text-align: right;\">\n",
       "      <th></th>\n",
       "      <th>1_FM</th>\n",
       "      <th>2_AF</th>\n",
       "      <th>3_Zigzag</th>\n",
       "      <th>4_Stripy</th>\n",
       "    </tr>\n",
       "  </thead>\n",
       "  <tbody>\n",
       "    <tr>\n",
       "      <th>0</th>\n",
       "      <td>1151.5</td>\n",
       "      <td>-525.2</td>\n",
       "      <td>133.5</td>\n",
       "      <td>-342.2</td>\n",
       "    </tr>\n",
       "    <tr>\n",
       "      <th>1</th>\n",
       "      <td>1118.4</td>\n",
       "      <td>-495.2</td>\n",
       "      <td>121.1</td>\n",
       "      <td>-328.8</td>\n",
       "    </tr>\n",
       "    <tr>\n",
       "      <th>2</th>\n",
       "      <td>1062.1</td>\n",
       "      <td>-462.9</td>\n",
       "      <td>108.2</td>\n",
       "      <td>-307.9</td>\n",
       "    </tr>\n",
       "    <tr>\n",
       "      <th>3</th>\n",
       "      <td>992.5</td>\n",
       "      <td>-431.2</td>\n",
       "      <td>97.2</td>\n",
       "      <td>-284.3</td>\n",
       "    </tr>\n",
       "    <tr>\n",
       "      <th>4</th>\n",
       "      <td>914.7</td>\n",
       "      <td>-400.9</td>\n",
       "      <td>88.6</td>\n",
       "      <td>-259.9</td>\n",
       "    </tr>\n",
       "    <tr>\n",
       "      <th>5</th>\n",
       "      <td>836.0</td>\n",
       "      <td>-372.6</td>\n",
       "      <td>81.7</td>\n",
       "      <td>-236.2</td>\n",
       "    </tr>\n",
       "    <tr>\n",
       "      <th>6</th>\n",
       "      <td>760.2</td>\n",
       "      <td>-346.7</td>\n",
       "      <td>76.2</td>\n",
       "      <td>-214.0</td>\n",
       "    </tr>\n",
       "    <tr>\n",
       "      <th>7</th>\n",
       "      <td>690.4</td>\n",
       "      <td>-323.3</td>\n",
       "      <td>71.4</td>\n",
       "      <td>-193.7</td>\n",
       "    </tr>\n",
       "  </tbody>\n",
       "</table>\n",
       "</div>"
      ],
      "text/plain": [
       "     1_FM   2_AF  3_Zigzag  4_Stripy\n",
       "0  1151.5 -525.2     133.5    -342.2\n",
       "1  1118.4 -495.2     121.1    -328.8\n",
       "2  1062.1 -462.9     108.2    -307.9\n",
       "3   992.5 -431.2      97.2    -284.3\n",
       "4   914.7 -400.9      88.6    -259.9\n",
       "5   836.0 -372.6      81.7    -236.2\n",
       "6   760.2 -346.7      76.2    -214.0\n",
       "7   690.4 -323.3      71.4    -193.7"
      ]
     },
     "execution_count": 17,
     "metadata": {},
     "output_type": "execute_result"
    }
   ],
   "source": [
    "CaMn2As2_energy_gate = pd.read_csv('./CaMn2As2/CaMn2As2_energy_gate.txt', sep='\\s+', names=['1_FM', '2_AF', '3_Zigzag','4_Stripy'])\n",
    "CaMn2As2_energy_gate"
   ]
  },
  {
   "cell_type": "code",
   "execution_count": 49,
   "metadata": {
    "collapsed": false
   },
   "outputs": [
    {
     "data": {
      "text/html": [
       "<div>\n",
       "<table border=\"1\" class=\"dataframe\">\n",
       "  <thead>\n",
       "    <tr style=\"text-align: right;\">\n",
       "      <th></th>\n",
       "      <th>1_FM</th>\n",
       "      <th>2_AF</th>\n",
       "      <th>3_Zigzag</th>\n",
       "      <th>4_Stripy</th>\n",
       "    </tr>\n",
       "  </thead>\n",
       "  <tbody>\n",
       "    <tr>\n",
       "      <th>0</th>\n",
       "      <td>876.1</td>\n",
       "      <td>-522.6</td>\n",
       "      <td>202.2</td>\n",
       "      <td>-320.0</td>\n",
       "    </tr>\n",
       "    <tr>\n",
       "      <th>1</th>\n",
       "      <td>1194.1</td>\n",
       "      <td>-548.4</td>\n",
       "      <td>162.0</td>\n",
       "      <td>-377.2</td>\n",
       "    </tr>\n",
       "    <tr>\n",
       "      <th>2</th>\n",
       "      <td>1281.7</td>\n",
       "      <td>-534.8</td>\n",
       "      <td>134.4</td>\n",
       "      <td>-383.4</td>\n",
       "    </tr>\n",
       "    <tr>\n",
       "      <th>3</th>\n",
       "      <td>1229.1</td>\n",
       "      <td>-501.8</td>\n",
       "      <td>120.5</td>\n",
       "      <td>-362.9</td>\n",
       "    </tr>\n",
       "    <tr>\n",
       "      <th>4</th>\n",
       "      <td>1161.5</td>\n",
       "      <td>-469.1</td>\n",
       "      <td>107.8</td>\n",
       "      <td>-338.6</td>\n",
       "    </tr>\n",
       "    <tr>\n",
       "      <th>5</th>\n",
       "      <td>1081.8</td>\n",
       "      <td>-437.2</td>\n",
       "      <td>97.6</td>\n",
       "      <td>-312.5</td>\n",
       "    </tr>\n",
       "    <tr>\n",
       "      <th>6</th>\n",
       "      <td>996.4</td>\n",
       "      <td>-406.7</td>\n",
       "      <td>89.7</td>\n",
       "      <td>-286.3</td>\n",
       "    </tr>\n",
       "    <tr>\n",
       "      <th>7</th>\n",
       "      <td>912.2</td>\n",
       "      <td>-378.5</td>\n",
       "      <td>83.3</td>\n",
       "      <td>-261.2</td>\n",
       "    </tr>\n",
       "  </tbody>\n",
       "</table>\n",
       "</div>"
      ],
      "text/plain": [
       "     1_FM   2_AF  3_Zigzag  4_Stripy\n",
       "0   876.1 -522.6     202.2    -320.0\n",
       "1  1194.1 -548.4     162.0    -377.2\n",
       "2  1281.7 -534.8     134.4    -383.4\n",
       "3  1229.1 -501.8     120.5    -362.9\n",
       "4  1161.5 -469.1     107.8    -338.6\n",
       "5  1081.8 -437.2      97.6    -312.5\n",
       "6   996.4 -406.7      89.7    -286.3\n",
       "7   912.2 -378.5      83.3    -261.2"
      ]
     },
     "execution_count": 49,
     "metadata": {},
     "output_type": "execute_result"
    }
   ],
   "source": [
    "CaMn2P2_energy_gate = pd.read_csv('./CaMn2P2/CaMn2P2_energy_gate.txt', sep='\\s+', names=['1_FM', '2_AF', '3_Zigzag','4_Stripy'])\n",
    "CaMn2P2_energy_gate"
   ]
  },
  {
   "cell_type": "code",
   "execution_count": 18,
   "metadata": {
    "collapsed": false
   },
   "outputs": [
    {
     "data": {
      "text/html": [
       "<div>\n",
       "<table border=\"1\" class=\"dataframe\">\n",
       "  <thead>\n",
       "    <tr style=\"text-align: right;\">\n",
       "      <th></th>\n",
       "      <th>1_FM</th>\n",
       "      <th>2_AF</th>\n",
       "      <th>3_Zigzag</th>\n",
       "      <th>4_Stripy</th>\n",
       "    </tr>\n",
       "  </thead>\n",
       "  <tbody>\n",
       "    <tr>\n",
       "      <th>0</th>\n",
       "      <td>367.7</td>\n",
       "      <td>46.9</td>\n",
       "      <td>13.7</td>\n",
       "      <td>-151.9</td>\n",
       "    </tr>\n",
       "    <tr>\n",
       "      <th>1</th>\n",
       "      <td>466.9</td>\n",
       "      <td>119.0</td>\n",
       "      <td>-14.6</td>\n",
       "      <td>-180.8</td>\n",
       "    </tr>\n",
       "    <tr>\n",
       "      <th>2</th>\n",
       "      <td>551.9</td>\n",
       "      <td>204.4</td>\n",
       "      <td>-59.9</td>\n",
       "      <td>-192.2</td>\n",
       "    </tr>\n",
       "    <tr>\n",
       "      <th>3</th>\n",
       "      <td>557.8</td>\n",
       "      <td>296.6</td>\n",
       "      <td>-109.1</td>\n",
       "      <td>-175.7</td>\n",
       "    </tr>\n",
       "    <tr>\n",
       "      <th>4</th>\n",
       "      <td>560.5</td>\n",
       "      <td>357.4</td>\n",
       "      <td>-163.5</td>\n",
       "      <td>-142.5</td>\n",
       "    </tr>\n",
       "    <tr>\n",
       "      <th>5</th>\n",
       "      <td>560.0</td>\n",
       "      <td>386.3</td>\n",
       "      <td>-215.9</td>\n",
       "      <td>-99.5</td>\n",
       "    </tr>\n",
       "    <tr>\n",
       "      <th>6</th>\n",
       "      <td>526.8</td>\n",
       "      <td>381.3</td>\n",
       "      <td>-257.6</td>\n",
       "      <td>-45.1</td>\n",
       "    </tr>\n",
       "    <tr>\n",
       "      <th>7</th>\n",
       "      <td>423.7</td>\n",
       "      <td>379.5</td>\n",
       "      <td>-288.4</td>\n",
       "      <td>20.6</td>\n",
       "    </tr>\n",
       "  </tbody>\n",
       "</table>\n",
       "</div>"
      ],
      "text/plain": [
       "    1_FM   2_AF  3_Zigzag  4_Stripy\n",
       "0  367.7   46.9      13.7    -151.9\n",
       "1  466.9  119.0     -14.6    -180.8\n",
       "2  551.9  204.4     -59.9    -192.2\n",
       "3  557.8  296.6    -109.1    -175.7\n",
       "4  560.5  357.4    -163.5    -142.5\n",
       "5  560.0  386.3    -215.9     -99.5\n",
       "6  526.8  381.3    -257.6     -45.1\n",
       "7  423.7  379.5    -288.4      20.6"
      ]
     },
     "execution_count": 18,
     "metadata": {},
     "output_type": "execute_result"
    }
   ],
   "source": [
    "CaFe2As2_energy_gate = pd.read_csv('./CaFe2As2/CaFe2As2_energy_gate.txt', sep='\\s+', names=['1_FM', '2_AF', '3_Zigzag','4_Stripy'])\n",
    "CaFe2As2_energy_gate"
   ]
  },
  {
   "cell_type": "code",
   "execution_count": 50,
   "metadata": {
    "collapsed": false
   },
   "outputs": [
    {
     "data": {
      "text/html": [
       "<div>\n",
       "<table border=\"1\" class=\"dataframe\">\n",
       "  <thead>\n",
       "    <tr style=\"text-align: right;\">\n",
       "      <th></th>\n",
       "      <th>1_FM</th>\n",
       "      <th>2_AF</th>\n",
       "      <th>3_Zigzag</th>\n",
       "      <th>4_Stripy</th>\n",
       "    </tr>\n",
       "  </thead>\n",
       "  <tbody>\n",
       "    <tr>\n",
       "      <th>0</th>\n",
       "      <td>141.3</td>\n",
       "      <td>-49.3</td>\n",
       "      <td>-14.8</td>\n",
       "      <td>-15.8</td>\n",
       "    </tr>\n",
       "    <tr>\n",
       "      <th>1</th>\n",
       "      <td>216.3</td>\n",
       "      <td>-19.1</td>\n",
       "      <td>6.6</td>\n",
       "      <td>-72.4</td>\n",
       "    </tr>\n",
       "    <tr>\n",
       "      <th>2</th>\n",
       "      <td>310.3</td>\n",
       "      <td>39.8</td>\n",
       "      <td>8.1</td>\n",
       "      <td>-124.8</td>\n",
       "    </tr>\n",
       "    <tr>\n",
       "      <th>3</th>\n",
       "      <td>404.1</td>\n",
       "      <td>111.7</td>\n",
       "      <td>-14.5</td>\n",
       "      <td>-157.5</td>\n",
       "    </tr>\n",
       "    <tr>\n",
       "      <th>4</th>\n",
       "      <td>499.5</td>\n",
       "      <td>189.4</td>\n",
       "      <td>-59.0</td>\n",
       "      <td>-170.6</td>\n",
       "    </tr>\n",
       "    <tr>\n",
       "      <th>5</th>\n",
       "      <td>623.9</td>\n",
       "      <td>254.4</td>\n",
       "      <td>-120.3</td>\n",
       "      <td>-172.5</td>\n",
       "    </tr>\n",
       "    <tr>\n",
       "      <th>6</th>\n",
       "      <td>746.1</td>\n",
       "      <td>262.9</td>\n",
       "      <td>-181.0</td>\n",
       "      <td>-155.3</td>\n",
       "    </tr>\n",
       "    <tr>\n",
       "      <th>7</th>\n",
       "      <td>795.6</td>\n",
       "      <td>67.8</td>\n",
       "      <td>-203.6</td>\n",
       "      <td>-84.2</td>\n",
       "    </tr>\n",
       "  </tbody>\n",
       "</table>\n",
       "</div>"
      ],
      "text/plain": [
       "    1_FM   2_AF  3_Zigzag  4_Stripy\n",
       "0  141.3  -49.3     -14.8     -15.8\n",
       "1  216.3  -19.1       6.6     -72.4\n",
       "2  310.3   39.8       8.1    -124.8\n",
       "3  404.1  111.7     -14.5    -157.5\n",
       "4  499.5  189.4     -59.0    -170.6\n",
       "5  623.9  254.4    -120.3    -172.5\n",
       "6  746.1  262.9    -181.0    -155.3\n",
       "7  795.6   67.8    -203.6     -84.2"
      ]
     },
     "execution_count": 50,
     "metadata": {},
     "output_type": "execute_result"
    }
   ],
   "source": [
    "CaFe2P2_energy_gate = pd.read_csv('./CaFe2P2/CaFe2P2_energy_gate.txt', sep='\\s+', names=['1_FM', '2_AF', '3_Zigzag','4_Stripy'])\n",
    "CaFe2P2_energy_gate"
   ]
  },
  {
   "cell_type": "markdown",
   "metadata": {
    "collapsed": true
   },
   "source": [
    "## Phase Diagram"
   ]
  },
  {
   "cell_type": "code",
   "execution_count": 17,
   "metadata": {
    "collapsed": false
   },
   "outputs": [
    {
     "data": {
      "text/plain": [
       "array([ 1.,  2.,  3.,  4.,  5.])"
      ]
     },
     "execution_count": 17,
     "metadata": {},
     "output_type": "execute_result"
    }
   ],
   "source": [
    "a=np.linspace(1,5,5)\n",
    "a"
   ]
  },
  {
   "cell_type": "code",
   "execution_count": 18,
   "metadata": {
    "collapsed": false
   },
   "outputs": [
    {
     "data": {
      "text/plain": [
       "array([ 1.,  2.,  3.,  4.,  5.,  1.])"
      ]
     },
     "execution_count": 18,
     "metadata": {},
     "output_type": "execute_result"
    }
   ],
   "source": [
    "c=np.append(a, a[0])\n",
    "c"
   ]
  },
  {
   "cell_type": "code",
   "execution_count": 19,
   "metadata": {
    "collapsed": false
   },
   "outputs": [
    {
     "data": {
      "text/plain": [
       "array([ 1.,  2.,  3.,  4.,  5.,  1.,  1.,  2.,  3.,  4.,  5.,  1.])"
      ]
     },
     "execution_count": 19,
     "metadata": {},
     "output_type": "execute_result"
    }
   ],
   "source": [
    "c=np.tile(c,2)\n",
    "c"
   ]
  },
  {
   "cell_type": "code",
   "execution_count": 13,
   "metadata": {
    "collapsed": false
   },
   "outputs": [
    {
     "data": {
      "text/plain": [
       "array([ 1.])"
      ]
     },
     "execution_count": 13,
     "metadata": {},
     "output_type": "execute_result"
    }
   ],
   "source": [
    "b=np.array([a[0]])\n",
    "b"
   ]
  },
  {
   "cell_type": "code",
   "execution_count": null,
   "metadata": {
    "collapsed": true
   },
   "outputs": [],
   "source": []
  }
 ],
 "metadata": {
  "kernelspec": {
   "display_name": "Python 2",
   "language": "python",
   "name": "python2"
  },
  "language_info": {
   "codemirror_mode": {
    "name": "ipython",
    "version": 2
   },
   "file_extension": ".py",
   "mimetype": "text/x-python",
   "name": "python",
   "nbconvert_exporter": "python",
   "pygments_lexer": "ipython2",
   "version": "2.7.13"
  }
 },
 "nbformat": 4,
 "nbformat_minor": 2
}
